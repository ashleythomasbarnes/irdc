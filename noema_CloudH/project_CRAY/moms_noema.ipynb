{
 "cells": [
  {
   "cell_type": "code",
   "execution_count": 5,
   "metadata": {},
   "outputs": [],
   "source": [
    "from spectral_cube_plus import SpectralCubePlus\n",
    "from astropy import units as u\n",
    "from glob import glob "
   ]
  },
  {
   "cell_type": "markdown",
   "metadata": {},
   "source": [
    "# Individual Masking"
   ]
  },
  {
   "cell_type": "code",
   "execution_count": 6,
   "metadata": {},
   "outputs": [
    {
     "data": {
      "text/plain": [
       "['/Users/abarnes/Dropbox/work/Projects/NOEMA/data/CloudH_lines/CloudH_HNC_L27-merged.fits',\n",
       " '/Users/abarnes/Dropbox/work/Projects/NOEMA/data/CloudH_lines/CloudH_HCN_L22-merged.fits',\n",
       " '/Users/abarnes/Dropbox/work/Projects/NOEMA/data/CloudH_lines/CloudH_N2Dp_L18-merged.fits',\n",
       " '/Users/abarnes/Dropbox/work/Projects/NOEMA/data/CloudH_lines/CloudH_DCOp_L09-merged.fits',\n",
       " '/Users/abarnes/Dropbox/work/Projects/NOEMA/data/CloudH_lines/CloudH_DNC_L16-merged.fits',\n",
       " '/Users/abarnes/Dropbox/work/Projects/NOEMA/data/CloudH_lines/CloudH_H15NC_L23-merged.fits',\n",
       " '/Users/abarnes/Dropbox/work/Projects/NOEMA/data/CloudH_lines/CloudH_HCOp_L25-merged.fits',\n",
       " '/Users/abarnes/Dropbox/work/Projects/NOEMA/data/CloudH_lines/CloudH_DCN_L10-merged.fits',\n",
       " '/Users/abarnes/Dropbox/work/Projects/NOEMA/data/CloudH_lines/CloudH_N2Hp_L30-merged.fits']"
      ]
     },
     "execution_count": 6,
     "metadata": {},
     "output_type": "execute_result"
    }
   ],
   "source": [
    "input_files = glob('/Users/abarnes/Dropbox/work/Projects/NOEMA/data/CloudH_lines/*.fits')\n",
    "input_files"
   ]
  },
  {
   "cell_type": "code",
   "execution_count": 7,
   "metadata": {},
   "outputs": [
    {
     "name": "stdout",
     "output_type": "stream",
     "text": [
      "/Users/abarnes/Dropbox/work/Projects/NOEMA/data/CloudH_lines/CloudH_HNC_L27-merged.fits\n"
     ]
    },
    {
     "name": "stderr",
     "output_type": "stream",
     "text": [
      "WARNING: PossiblySlowWarning: This function (<function BaseSpectralCube.to at 0x7f8d50bdaee0>) requires loading the entire cube into memory and may therefore be slow. [spectral_cube.utils]\n"
     ]
    },
    {
     "name": "stdout",
     "output_type": "stream",
     "text": [
      "/Users/abarnes/Dropbox/work/Projects/NOEMA/data/CloudH_lines/CloudH_HCN_L22-merged.fits\n",
      "/Users/abarnes/Dropbox/work/Projects/NOEMA/data/CloudH_lines/CloudH_N2Dp_L18-merged.fits\n"
     ]
    },
    {
     "name": "stderr",
     "output_type": "stream",
     "text": [
      "WARNING: PossiblySlowWarning: This function (<function BaseSpectralCube.to at 0x7f8d50bdaee0>) requires loading the entire cube into memory and may therefore be slow. [spectral_cube.utils]\n"
     ]
    },
    {
     "name": "stdout",
     "output_type": "stream",
     "text": [
      "/Users/abarnes/Dropbox/work/Projects/NOEMA/data/CloudH_lines/CloudH_DCOp_L09-merged.fits\n"
     ]
    },
    {
     "name": "stderr",
     "output_type": "stream",
     "text": [
      "WARNING: PossiblySlowWarning: This function (<function BaseSpectralCube.to at 0x7f8d50bdaee0>) requires loading the entire cube into memory and may therefore be slow. [spectral_cube.utils]\n"
     ]
    },
    {
     "name": "stdout",
     "output_type": "stream",
     "text": [
      "/Users/abarnes/Dropbox/work/Projects/NOEMA/data/CloudH_lines/CloudH_DNC_L16-merged.fits\n"
     ]
    },
    {
     "name": "stderr",
     "output_type": "stream",
     "text": [
      "WARNING: PossiblySlowWarning: This function (<function BaseSpectralCube.to at 0x7f8d50bdaee0>) requires loading the entire cube into memory and may therefore be slow. [spectral_cube.utils]\n"
     ]
    },
    {
     "name": "stdout",
     "output_type": "stream",
     "text": [
      "/Users/abarnes/Dropbox/work/Projects/NOEMA/data/CloudH_lines/CloudH_H15NC_L23-merged.fits\n"
     ]
    },
    {
     "name": "stderr",
     "output_type": "stream",
     "text": [
      "WARNING: PossiblySlowWarning: This function (<function BaseSpectralCube.to at 0x7f8d50bdaee0>) requires loading the entire cube into memory and may therefore be slow. [spectral_cube.utils]\n"
     ]
    },
    {
     "name": "stdout",
     "output_type": "stream",
     "text": [
      "/Users/abarnes/Dropbox/work/Projects/NOEMA/data/CloudH_lines/CloudH_HCOp_L25-merged.fits\n"
     ]
    },
    {
     "name": "stderr",
     "output_type": "stream",
     "text": [
      "WARNING: PossiblySlowWarning: This function (<function BaseSpectralCube.to at 0x7f8d50bdaee0>) requires loading the entire cube into memory and may therefore be slow. [spectral_cube.utils]\n"
     ]
    },
    {
     "name": "stdout",
     "output_type": "stream",
     "text": [
      "/Users/abarnes/Dropbox/work/Projects/NOEMA/data/CloudH_lines/CloudH_DCN_L10-merged.fits\n"
     ]
    },
    {
     "name": "stderr",
     "output_type": "stream",
     "text": [
      "WARNING: PossiblySlowWarning: This function (<function BaseSpectralCube.to at 0x7f8d50bdaee0>) requires loading the entire cube into memory and may therefore be slow. [spectral_cube.utils]\n"
     ]
    },
    {
     "name": "stdout",
     "output_type": "stream",
     "text": [
      "/Users/abarnes/Dropbox/work/Projects/NOEMA/data/CloudH_lines/CloudH_N2Hp_L30-merged.fits\n"
     ]
    },
    {
     "name": "stderr",
     "output_type": "stream",
     "text": [
      "WARNING: PossiblySlowWarning: This function (<function BaseSpectralCube.to at 0x7f8d50bdaee0>) requires loading the entire cube into memory and may therefore be slow. [spectral_cube.utils]\n"
     ]
    }
   ],
   "source": [
    "for input_file in input_files:\n",
    "    \n",
    "    print(input_file)\n",
    "\n",
    "    cube = SpectralCubePlus.read(input_file)\n",
    "    cube.allow_huge_operations = True\n",
    "    cube = cube.with_spectral_unit(u.km / u.s) \n",
    "    cube = cube.to('K')\n",
    "    cube = cube.minimal_subcube()\n",
    "\n",
    "    cube.writeto(input_file, overwrite=True)"
   ]
  },
  {
   "cell_type": "code",
   "execution_count": 11,
   "metadata": {},
   "outputs": [
    {
     "name": "stdout",
     "output_type": "stream",
     "text": [
      "/Users/abarnes/Dropbox/work/Projects/NOEMA/data/CloudH_lines/CloudH_HNC_L27-merged.fits\n"
     ]
    },
    {
     "name": "stderr",
     "output_type": "stream",
     "text": [
      "WARNING: PossiblySlowWarning: This function (<function BaseSpectralCube.to at 0x12c6a9900>) requires loading the entire cube into memory and may therefore be slow. [spectral_cube.utils]\n",
      "WARNING: PossiblySlowWarning: This function (<function BaseSpectralCube.max at 0x12c6a29e0>) requires loading the entire cube into memory and may therefore be slow. [spectral_cube.utils]\n",
      "/Users/abarnes/opt/anaconda3/envs/python3p10/lib/python3.10/site-packages/spectral_cube/spectral_cube.py:439: RuntimeWarning: All-NaN slice encountered\n",
      "  out = function(self._get_filled_data(fill=fill,\n"
     ]
    },
    {
     "name": "stdout",
     "output_type": "stream",
     "text": [
      "/Users/abarnes/Dropbox/work/Projects/NOEMA/data/CloudH_lines/CloudH_HCN_L22-merged.fits\n"
     ]
    },
    {
     "name": "stderr",
     "output_type": "stream",
     "text": [
      "/Users/abarnes/opt/anaconda3/envs/python3p10/lib/python3.10/site-packages/spectral_cube/spectral_cube.py:537: RuntimeWarning: All-NaN slice encountered\n",
      "  result = function(np.dstack((result, plane)), axis=2, **kwargs)\n"
     ]
    },
    {
     "name": "stdout",
     "output_type": "stream",
     "text": [
      "/Users/abarnes/Dropbox/work/Projects/NOEMA/data/CloudH_lines/CloudH_N2Dp_L18-merged.fits\n"
     ]
    },
    {
     "name": "stderr",
     "output_type": "stream",
     "text": [
      "WARNING: PossiblySlowWarning: This function (<function BaseSpectralCube.to at 0x12c6a9900>) requires loading the entire cube into memory and may therefore be slow. [spectral_cube.utils]\n",
      "WARNING: PossiblySlowWarning: This function (<function BaseSpectralCube.max at 0x12c6a29e0>) requires loading the entire cube into memory and may therefore be slow. [spectral_cube.utils]\n",
      "/Users/abarnes/opt/anaconda3/envs/python3p10/lib/python3.10/site-packages/spectral_cube/spectral_cube.py:439: RuntimeWarning: All-NaN slice encountered\n",
      "  out = function(self._get_filled_data(fill=fill,\n"
     ]
    },
    {
     "name": "stdout",
     "output_type": "stream",
     "text": [
      "/Users/abarnes/Dropbox/work/Projects/NOEMA/data/CloudH_lines/CloudH_DCOp_L09-merged.fits\n"
     ]
    },
    {
     "name": "stderr",
     "output_type": "stream",
     "text": [
      "WARNING: PossiblySlowWarning: This function (<function BaseSpectralCube.to at 0x12c6a9900>) requires loading the entire cube into memory and may therefore be slow. [spectral_cube.utils]\n",
      "WARNING: PossiblySlowWarning: This function (<function BaseSpectralCube.max at 0x12c6a29e0>) requires loading the entire cube into memory and may therefore be slow. [spectral_cube.utils]\n",
      "/Users/abarnes/opt/anaconda3/envs/python3p10/lib/python3.10/site-packages/spectral_cube/spectral_cube.py:439: RuntimeWarning: All-NaN slice encountered\n",
      "  out = function(self._get_filled_data(fill=fill,\n"
     ]
    },
    {
     "name": "stdout",
     "output_type": "stream",
     "text": [
      "/Users/abarnes/Dropbox/work/Projects/NOEMA/data/CloudH_lines/CloudH_DNC_L16-merged.fits\n"
     ]
    },
    {
     "name": "stderr",
     "output_type": "stream",
     "text": [
      "WARNING: PossiblySlowWarning: This function (<function BaseSpectralCube.to at 0x12c6a9900>) requires loading the entire cube into memory and may therefore be slow. [spectral_cube.utils]\n",
      "WARNING: PossiblySlowWarning: This function (<function BaseSpectralCube.max at 0x12c6a29e0>) requires loading the entire cube into memory and may therefore be slow. [spectral_cube.utils]\n",
      "/Users/abarnes/opt/anaconda3/envs/python3p10/lib/python3.10/site-packages/spectral_cube/spectral_cube.py:439: RuntimeWarning: All-NaN slice encountered\n",
      "  out = function(self._get_filled_data(fill=fill,\n"
     ]
    },
    {
     "name": "stdout",
     "output_type": "stream",
     "text": [
      "/Users/abarnes/Dropbox/work/Projects/NOEMA/data/CloudH_lines/CloudH_H15NC_L23-merged.fits\n"
     ]
    },
    {
     "name": "stderr",
     "output_type": "stream",
     "text": [
      "WARNING: PossiblySlowWarning: This function (<function BaseSpectralCube.to at 0x12c6a9900>) requires loading the entire cube into memory and may therefore be slow. [spectral_cube.utils]\n",
      "WARNING: PossiblySlowWarning: This function (<function BaseSpectralCube.max at 0x12c6a29e0>) requires loading the entire cube into memory and may therefore be slow. [spectral_cube.utils]\n",
      "/Users/abarnes/opt/anaconda3/envs/python3p10/lib/python3.10/site-packages/spectral_cube/spectral_cube.py:439: RuntimeWarning: All-NaN slice encountered\n",
      "  out = function(self._get_filled_data(fill=fill,\n"
     ]
    },
    {
     "name": "stdout",
     "output_type": "stream",
     "text": [
      "/Users/abarnes/Dropbox/work/Projects/NOEMA/data/CloudH_lines/CloudH_HCOp_L25-merged.fits\n"
     ]
    },
    {
     "name": "stderr",
     "output_type": "stream",
     "text": [
      "WARNING: PossiblySlowWarning: This function (<function BaseSpectralCube.to at 0x12c6a9900>) requires loading the entire cube into memory and may therefore be slow. [spectral_cube.utils]\n",
      "WARNING: PossiblySlowWarning: This function (<function BaseSpectralCube.max at 0x12c6a29e0>) requires loading the entire cube into memory and may therefore be slow. [spectral_cube.utils]\n",
      "/Users/abarnes/opt/anaconda3/envs/python3p10/lib/python3.10/site-packages/spectral_cube/spectral_cube.py:439: RuntimeWarning: All-NaN slice encountered\n",
      "  out = function(self._get_filled_data(fill=fill,\n"
     ]
    },
    {
     "name": "stdout",
     "output_type": "stream",
     "text": [
      "/Users/abarnes/Dropbox/work/Projects/NOEMA/data/CloudH_lines/CloudH_DCN_L10-merged.fits\n"
     ]
    },
    {
     "name": "stderr",
     "output_type": "stream",
     "text": [
      "WARNING: PossiblySlowWarning: This function (<function BaseSpectralCube.to at 0x12c6a9900>) requires loading the entire cube into memory and may therefore be slow. [spectral_cube.utils]\n",
      "WARNING: PossiblySlowWarning: This function (<function BaseSpectralCube.max at 0x12c6a29e0>) requires loading the entire cube into memory and may therefore be slow. [spectral_cube.utils]\n",
      "/Users/abarnes/opt/anaconda3/envs/python3p10/lib/python3.10/site-packages/spectral_cube/spectral_cube.py:439: RuntimeWarning: All-NaN slice encountered\n",
      "  out = function(self._get_filled_data(fill=fill,\n"
     ]
    },
    {
     "name": "stdout",
     "output_type": "stream",
     "text": [
      "/Users/abarnes/Dropbox/work/Projects/NOEMA/data/CloudH_lines/CloudH_N2Hp_L30-merged.fits\n"
     ]
    },
    {
     "name": "stderr",
     "output_type": "stream",
     "text": [
      "WARNING: PossiblySlowWarning: This function (<function BaseSpectralCube.to at 0x12c6a9900>) requires loading the entire cube into memory and may therefore be slow. [spectral_cube.utils]\n",
      "WARNING: PossiblySlowWarning: This function (<function BaseSpectralCube.max at 0x12c6a29e0>) requires loading the entire cube into memory and may therefore be slow. [spectral_cube.utils]\n",
      "/Users/abarnes/opt/anaconda3/envs/python3p10/lib/python3.10/site-packages/spectral_cube/spectral_cube.py:439: RuntimeWarning: All-NaN slice encountered\n",
      "  out = function(self._get_filled_data(fill=fill,\n"
     ]
    }
   ],
   "source": [
    "for input_file in input_files:\n",
    "    \n",
    "    print(input_file)\n",
    "    output_file = input_file.replace('CloudH_lines', 'CloudH_lines_moms') \n",
    "\n",
    "    cube = SpectralCubePlus.read(input_file)\n",
    "    cube.allow_huge_operations = True\n",
    "    cube = cube.with_spectral_unit(u.km / u.s) \n",
    "    cube = cube.to('K')\n",
    "\n",
    "    rms = cube.get_rms_auto()\n",
    "    mask = cube < cube.rms\n",
    "    rms = cube.get_rms_auto(mask)\n",
    "\n",
    "    _ = cube.get_expmask(hthresh=4, lthresh=2)\n",
    "\n",
    "    mom8 = cube.masked.max(axis=0)\n",
    "    mom0 = cube.masked.moment0()\n",
    "    mom0err = cube.masked.moment0err()\n",
    "\n",
    "    mom8.write(output_file.replace('.fits', '_max.fits'), overwrite=True)\n",
    "    mom0.write(output_file.replace('.fits', '_mom0.fits'), overwrite=True)\n",
    "    mom0err.write(output_file.replace('.fits', '_mom0err.fits'), overwrite=True)"
   ]
  },
  {
   "cell_type": "markdown",
   "metadata": {},
   "source": [
    "# Matched masked"
   ]
  },
  {
   "cell_type": "code",
   "execution_count": 8,
   "metadata": {},
   "outputs": [],
   "source": [
    "file_n2hp = '/Users/abarnes/Dropbox/work/Projects/NOEMA/data/CloudH_lines/CloudH_N2Hp_L30-merged.fits'\n",
    "file_n2dp = '/Users/abarnes/Dropbox/work/Projects/NOEMA/data/CloudH_lines/CloudH_N2Dp_L18-merged.fits'"
   ]
  },
  {
   "cell_type": "code",
   "execution_count": 9,
   "metadata": {},
   "outputs": [
    {
     "name": "stdout",
     "output_type": "stream",
     "text": [
      "/Users/abarnes/Dropbox/work/Projects/NOEMA/data/CloudH_lines/CloudH_N2Hp_L30-merged.fits\n"
     ]
    },
    {
     "name": "stderr",
     "output_type": "stream",
     "text": [
      "WARNING: PossiblySlowWarning: This function (<function BaseSpectralCube.to at 0x7f8d50bdaee0>) requires loading the entire cube into memory and may therefore be slow. [spectral_cube.utils]\n"
     ]
    },
    {
     "ename": "NotImplementedError",
     "evalue": "multi-dimensional sub-views are not implemented",
     "output_type": "error",
     "traceback": [
      "\u001b[0;31m---------------------------------------------------------------------------\u001b[0m",
      "\u001b[0;31mNotImplementedError\u001b[0m                       Traceback (most recent call last)",
      "\u001b[0;32m/var/folders/3y/cmsgt3_x7x72bbs__zhy_q6h0008wr/T/ipykernel_43023/148667335.py\u001b[0m in \u001b[0;36m<module>\u001b[0;34m\u001b[0m\n\u001b[1;32m     26\u001b[0m     \u001b[0;32mreturn\u001b[0m \u001b[0mcube\u001b[0m\u001b[0;34m\u001b[0m\u001b[0;34m\u001b[0m\u001b[0m\n\u001b[1;32m     27\u001b[0m \u001b[0;34m\u001b[0m\u001b[0m\n\u001b[0;32m---> 28\u001b[0;31m \u001b[0mcube_n2hp\u001b[0m \u001b[0;34m=\u001b[0m \u001b[0mget_moms\u001b[0m\u001b[0;34m(\u001b[0m\u001b[0mfile_n2hp\u001b[0m\u001b[0;34m)\u001b[0m\u001b[0;34m\u001b[0m\u001b[0;34m\u001b[0m\u001b[0m\n\u001b[0m\u001b[1;32m     29\u001b[0m \u001b[0mcube_n2dp\u001b[0m \u001b[0;34m=\u001b[0m \u001b[0mget_moms\u001b[0m\u001b[0;34m(\u001b[0m\u001b[0mfile_n2dp\u001b[0m\u001b[0;34m)\u001b[0m\u001b[0;34m\u001b[0m\u001b[0;34m\u001b[0m\u001b[0m\n",
      "\u001b[0;32m/var/folders/3y/cmsgt3_x7x72bbs__zhy_q6h0008wr/T/ipykernel_43023/148667335.py\u001b[0m in \u001b[0;36mget_moms\u001b[0;34m(input_file)\u001b[0m\n\u001b[1;32m     14\u001b[0m     \u001b[0mrms\u001b[0m \u001b[0;34m=\u001b[0m \u001b[0mcube\u001b[0m\u001b[0;34m.\u001b[0m\u001b[0mget_rms_auto\u001b[0m\u001b[0;34m(\u001b[0m\u001b[0mmask\u001b[0m\u001b[0;34m)\u001b[0m\u001b[0;34m\u001b[0m\u001b[0;34m\u001b[0m\u001b[0m\n\u001b[1;32m     15\u001b[0m \u001b[0;34m\u001b[0m\u001b[0m\n\u001b[0;32m---> 16\u001b[0;31m     \u001b[0m_\u001b[0m \u001b[0;34m=\u001b[0m \u001b[0mcube\u001b[0m\u001b[0;34m.\u001b[0m\u001b[0mget_expmask\u001b[0m\u001b[0;34m(\u001b[0m\u001b[0mhthresh\u001b[0m\u001b[0;34m=\u001b[0m\u001b[0;36m4\u001b[0m\u001b[0;34m,\u001b[0m \u001b[0mlthresh\u001b[0m\u001b[0;34m=\u001b[0m\u001b[0;36m2\u001b[0m\u001b[0;34m)\u001b[0m\u001b[0;34m\u001b[0m\u001b[0;34m\u001b[0m\u001b[0m\n\u001b[0m\u001b[1;32m     17\u001b[0m \u001b[0;34m\u001b[0m\u001b[0m\n\u001b[1;32m     18\u001b[0m     \u001b[0mmom8\u001b[0m \u001b[0;34m=\u001b[0m \u001b[0mcube\u001b[0m\u001b[0;34m.\u001b[0m\u001b[0mmasked\u001b[0m\u001b[0;34m.\u001b[0m\u001b[0mmax\u001b[0m\u001b[0;34m(\u001b[0m\u001b[0maxis\u001b[0m\u001b[0;34m=\u001b[0m\u001b[0;36m0\u001b[0m\u001b[0;34m)\u001b[0m\u001b[0;34m\u001b[0m\u001b[0;34m\u001b[0m\u001b[0m\n",
      "\u001b[0;32m~/GitHub/spectral_cube_plus/spectral_cube_plus.py\u001b[0m in \u001b[0;36mget_expmask\u001b[0;34m(self, *args, **kwargs)\u001b[0m\n\u001b[1;32m     45\u001b[0m \u001b[0;34m\u001b[0m\u001b[0m\n\u001b[1;32m     46\u001b[0m     \u001b[0;32mdef\u001b[0m \u001b[0mget_expmask\u001b[0m\u001b[0;34m(\u001b[0m\u001b[0mself\u001b[0m\u001b[0;34m,\u001b[0m \u001b[0;34m*\u001b[0m\u001b[0margs\u001b[0m\u001b[0;34m,\u001b[0m \u001b[0;34m**\u001b[0m\u001b[0mkwargs\u001b[0m\u001b[0;34m)\u001b[0m\u001b[0;34m:\u001b[0m\u001b[0;34m\u001b[0m\u001b[0;34m\u001b[0m\u001b[0m\n\u001b[0;32m---> 47\u001b[0;31m         \u001b[0mexpmask\u001b[0m \u001b[0;34m=\u001b[0m \u001b[0m_get_expmask\u001b[0m\u001b[0;34m(\u001b[0m\u001b[0mself\u001b[0m\u001b[0;34m,\u001b[0m \u001b[0mself\u001b[0m\u001b[0;34m.\u001b[0m\u001b[0mrms\u001b[0m\u001b[0;34m,\u001b[0m \u001b[0;34m*\u001b[0m\u001b[0margs\u001b[0m\u001b[0;34m,\u001b[0m \u001b[0;34m**\u001b[0m\u001b[0mkwargs\u001b[0m\u001b[0;34m)\u001b[0m\u001b[0;34m\u001b[0m\u001b[0;34m\u001b[0m\u001b[0m\n\u001b[0m\u001b[1;32m     48\u001b[0m \u001b[0;34m\u001b[0m\u001b[0m\n\u001b[1;32m     49\u001b[0m         \u001b[0;32mdef\u001b[0m \u001b[0m_set_mask\u001b[0m\u001b[0;34m(\u001b[0m\u001b[0mmask\u001b[0m\u001b[0;34m)\u001b[0m\u001b[0;34m:\u001b[0m\u001b[0;34m\u001b[0m\u001b[0;34m\u001b[0m\u001b[0m\n",
      "\u001b[0;32m~/GitHub/spectral_cube_plus/spectralcubeplus_masks.py\u001b[0m in \u001b[0;36mget_expmask\u001b[0;34m(cube, rms, hthresh, lthresh, beamarea, radfrac, npix)\u001b[0m\n\u001b[1;32m    171\u001b[0m     \u001b[0mstructure\u001b[0m \u001b[0;34m=\u001b[0m \u001b[0mget_circmask\u001b[0m\u001b[0;34m(\u001b[0m\u001b[0mradius\u001b[0m\u001b[0;34m=\u001b[0m\u001b[0mrad\u001b[0m\u001b[0;34m)\u001b[0m\u001b[0;34m\u001b[0m\u001b[0;34m\u001b[0m\u001b[0m\n\u001b[1;32m    172\u001b[0m \u001b[0;34m\u001b[0m\u001b[0m\n\u001b[0;32m--> 173\u001b[0;31m     \u001b[0mmask_l_\u001b[0m\u001b[0;34m,\u001b[0m \u001b[0m_\u001b[0m \u001b[0;34m=\u001b[0m \u001b[0mget_threshmask\u001b[0m\u001b[0;34m(\u001b[0m\u001b[0mcube\u001b[0m\u001b[0;34m,\u001b[0m \u001b[0mrms\u001b[0m\u001b[0;34m.\u001b[0m\u001b[0mdata\u001b[0m\u001b[0;34m,\u001b[0m \u001b[0mthresh\u001b[0m\u001b[0;34m=\u001b[0m\u001b[0mlthresh\u001b[0m\u001b[0;34m)\u001b[0m\u001b[0;34m\u001b[0m\u001b[0;34m\u001b[0m\u001b[0m\n\u001b[0m\u001b[1;32m    174\u001b[0m     \u001b[0mmask_h_\u001b[0m\u001b[0;34m,\u001b[0m \u001b[0m_\u001b[0m \u001b[0;34m=\u001b[0m \u001b[0mget_threshmask\u001b[0m\u001b[0;34m(\u001b[0m\u001b[0mcube\u001b[0m\u001b[0;34m,\u001b[0m \u001b[0mrms\u001b[0m\u001b[0;34m.\u001b[0m\u001b[0mdata\u001b[0m\u001b[0;34m,\u001b[0m \u001b[0mthresh\u001b[0m\u001b[0;34m=\u001b[0m\u001b[0mhthresh\u001b[0m\u001b[0;34m)\u001b[0m\u001b[0;34m\u001b[0m\u001b[0;34m\u001b[0m\u001b[0m\n\u001b[1;32m    175\u001b[0m \u001b[0;34m\u001b[0m\u001b[0m\n",
      "\u001b[0;32m~/GitHub/spectral_cube_plus/spectralcubeplus_masks.py\u001b[0m in \u001b[0;36mget_threshmask\u001b[0;34m(cube, thresh_map, thresh)\u001b[0m\n\u001b[1;32m     29\u001b[0m     \"\"\"\n\u001b[1;32m     30\u001b[0m \u001b[0;34m\u001b[0m\u001b[0m\n\u001b[0;32m---> 31\u001b[0;31m     \u001b[0mmask\u001b[0m \u001b[0;34m=\u001b[0m \u001b[0mcube\u001b[0m \u001b[0;34m>\u001b[0m \u001b[0;34m(\u001b[0m\u001b[0;34m(\u001b[0m\u001b[0mthresh_map\u001b[0m \u001b[0;34m*\u001b[0m \u001b[0mcube\u001b[0m\u001b[0;34m.\u001b[0m\u001b[0munit\u001b[0m\u001b[0;34m)\u001b[0m \u001b[0;34m*\u001b[0m \u001b[0mthresh\u001b[0m\u001b[0;34m)\u001b[0m\u001b[0;34m\u001b[0m\u001b[0;34m\u001b[0m\u001b[0m\n\u001b[0m\u001b[1;32m     32\u001b[0m     \u001b[0mcube_masked\u001b[0m \u001b[0;34m=\u001b[0m \u001b[0mcube\u001b[0m\u001b[0;34m.\u001b[0m\u001b[0mwith_mask\u001b[0m\u001b[0;34m(\u001b[0m\u001b[0mmask\u001b[0m\u001b[0;34m)\u001b[0m\u001b[0;34m\u001b[0m\u001b[0;34m\u001b[0m\u001b[0m\n\u001b[1;32m     33\u001b[0m \u001b[0;34m\u001b[0m\u001b[0m\n",
      "\u001b[0;32m~/opt/anaconda3/lib/python3.9/site-packages/astropy/units/core.py\u001b[0m in \u001b[0;36m__rmul__\u001b[0;34m(self, m)\u001b[0m\n\u001b[1;32m    900\u001b[0m                 \u001b[0;32mreturn\u001b[0m \u001b[0mresult\u001b[0m\u001b[0;34m\u001b[0m\u001b[0;34m\u001b[0m\u001b[0m\n\u001b[1;32m    901\u001b[0m             \u001b[0;32melse\u001b[0m\u001b[0;34m:\u001b[0m\u001b[0;34m\u001b[0m\u001b[0;34m\u001b[0m\u001b[0m\n\u001b[0;32m--> 902\u001b[0;31m                 \u001b[0;32mreturn\u001b[0m \u001b[0mQuantity\u001b[0m\u001b[0;34m(\u001b[0m\u001b[0mm\u001b[0m\u001b[0;34m,\u001b[0m \u001b[0munit\u001b[0m\u001b[0;34m=\u001b[0m\u001b[0mself\u001b[0m\u001b[0;34m)\u001b[0m\u001b[0;34m\u001b[0m\u001b[0;34m\u001b[0m\u001b[0m\n\u001b[0m\u001b[1;32m    903\u001b[0m         \u001b[0;32mexcept\u001b[0m \u001b[0mTypeError\u001b[0m\u001b[0;34m:\u001b[0m\u001b[0;34m\u001b[0m\u001b[0;34m\u001b[0m\u001b[0m\n\u001b[1;32m    904\u001b[0m             \u001b[0;32mreturn\u001b[0m \u001b[0mNotImplemented\u001b[0m\u001b[0;34m\u001b[0m\u001b[0;34m\u001b[0m\u001b[0m\n",
      "\u001b[0;32m~/opt/anaconda3/lib/python3.9/site-packages/astropy/units/quantity.py\u001b[0m in \u001b[0;36m__new__\u001b[0;34m(cls, value, unit, dtype, copy, order, subok, ndmin)\u001b[0m\n\u001b[1;32m    493\u001b[0m             \u001b[0;32melif\u001b[0m \u001b[0misiterable\u001b[0m\u001b[0;34m(\u001b[0m\u001b[0mvalue\u001b[0m\u001b[0;34m)\u001b[0m \u001b[0;32mand\u001b[0m \u001b[0mlen\u001b[0m\u001b[0;34m(\u001b[0m\u001b[0mvalue\u001b[0m\u001b[0;34m)\u001b[0m \u001b[0;34m>\u001b[0m \u001b[0;36m0\u001b[0m\u001b[0;34m:\u001b[0m\u001b[0;34m\u001b[0m\u001b[0;34m\u001b[0m\u001b[0m\n\u001b[1;32m    494\u001b[0m                 \u001b[0;31m# Iterables like lists and tuples.\u001b[0m\u001b[0;34m\u001b[0m\u001b[0;34m\u001b[0m\u001b[0m\n\u001b[0;32m--> 495\u001b[0;31m                 \u001b[0;32mif\u001b[0m \u001b[0mall\u001b[0m\u001b[0;34m(\u001b[0m\u001b[0misinstance\u001b[0m\u001b[0;34m(\u001b[0m\u001b[0mv\u001b[0m\u001b[0;34m,\u001b[0m \u001b[0mQuantity\u001b[0m\u001b[0;34m)\u001b[0m \u001b[0;32mfor\u001b[0m \u001b[0mv\u001b[0m \u001b[0;32min\u001b[0m \u001b[0mvalue\u001b[0m\u001b[0;34m)\u001b[0m\u001b[0;34m:\u001b[0m\u001b[0;34m\u001b[0m\u001b[0;34m\u001b[0m\u001b[0m\n\u001b[0m\u001b[1;32m    496\u001b[0m                     \u001b[0;31m# If a list/tuple containing only quantities, convert all\u001b[0m\u001b[0;34m\u001b[0m\u001b[0;34m\u001b[0m\u001b[0m\n\u001b[1;32m    497\u001b[0m                     \u001b[0;31m# to the same unit.\u001b[0m\u001b[0;34m\u001b[0m\u001b[0;34m\u001b[0m\u001b[0m\n",
      "\u001b[0;32m~/opt/anaconda3/lib/python3.9/site-packages/astropy/units/quantity.py\u001b[0m in \u001b[0;36m<genexpr>\u001b[0;34m(.0)\u001b[0m\n\u001b[1;32m    493\u001b[0m             \u001b[0;32melif\u001b[0m \u001b[0misiterable\u001b[0m\u001b[0;34m(\u001b[0m\u001b[0mvalue\u001b[0m\u001b[0;34m)\u001b[0m \u001b[0;32mand\u001b[0m \u001b[0mlen\u001b[0m\u001b[0;34m(\u001b[0m\u001b[0mvalue\u001b[0m\u001b[0;34m)\u001b[0m \u001b[0;34m>\u001b[0m \u001b[0;36m0\u001b[0m\u001b[0;34m:\u001b[0m\u001b[0;34m\u001b[0m\u001b[0;34m\u001b[0m\u001b[0m\n\u001b[1;32m    494\u001b[0m                 \u001b[0;31m# Iterables like lists and tuples.\u001b[0m\u001b[0;34m\u001b[0m\u001b[0;34m\u001b[0m\u001b[0m\n\u001b[0;32m--> 495\u001b[0;31m                 \u001b[0;32mif\u001b[0m \u001b[0mall\u001b[0m\u001b[0;34m(\u001b[0m\u001b[0misinstance\u001b[0m\u001b[0;34m(\u001b[0m\u001b[0mv\u001b[0m\u001b[0;34m,\u001b[0m \u001b[0mQuantity\u001b[0m\u001b[0;34m)\u001b[0m \u001b[0;32mfor\u001b[0m \u001b[0mv\u001b[0m \u001b[0;32min\u001b[0m \u001b[0mvalue\u001b[0m\u001b[0;34m)\u001b[0m\u001b[0;34m:\u001b[0m\u001b[0;34m\u001b[0m\u001b[0;34m\u001b[0m\u001b[0m\n\u001b[0m\u001b[1;32m    496\u001b[0m                     \u001b[0;31m# If a list/tuple containing only quantities, convert all\u001b[0m\u001b[0;34m\u001b[0m\u001b[0;34m\u001b[0m\u001b[0m\n\u001b[1;32m    497\u001b[0m                     \u001b[0;31m# to the same unit.\u001b[0m\u001b[0;34m\u001b[0m\u001b[0;34m\u001b[0m\u001b[0m\n",
      "\u001b[0;31mNotImplementedError\u001b[0m: multi-dimensional sub-views are not implemented"
     ]
    }
   ],
   "source": [
    "def get_moms(input_file):\n",
    "\n",
    "    print(input_file)\n",
    "    output_file = input_file.replace('CloudH_lines', 'CloudH_lines_moms') \n",
    "\n",
    "    cube = SpectralCubePlus.read(input_file)\n",
    "    cube.allow_huge_operations = True\n",
    "    cube = cube.with_spectral_unit(u.km / u.s) \n",
    "    cube = cube.to('K')\n",
    "    # cube = cube.minimal_subcube()\n",
    "\n",
    "    rms = cube.get_rms_auto()\n",
    "    mask = cube < cube.rms\n",
    "    rms = cube.get_rms_auto(mask)\n",
    "\n",
    "    _ = cube.get_expmask(hthresh=4, lthresh=2)\n",
    "\n",
    "    mom8 = cube.masked.max(axis=0)\n",
    "    mom0 = cube.masked.moment0()\n",
    "    mom0err = cube.masked.moment0err()\n",
    "\n",
    "    mom8.write(output_file.replace('.fits', '_max.fits'), overwrite=True)\n",
    "    mom0.write(output_file.replace('.fits', '_mom0.fits'), overwrite=True)\n",
    "    mom0err.write(output_file.replace('.fits', '_mom0err.fits'), overwrite=True)\n",
    "\n",
    "    return cube \n",
    "\n",
    "cube_n2hp = get_moms(file_n2hp)\n",
    "cube_n2dp = get_moms(file_n2dp)"
   ]
  },
  {
   "cell_type": "code",
   "execution_count": 15,
   "metadata": {},
   "outputs": [
    {
     "name": "stdout",
     "output_type": "stream",
     "text": [
      "/Users/abarnes/Dropbox/work/Projects/NOEMA/data/CloudH_lines/CloudH_N2Dp_L18-merged.fits\n"
     ]
    },
    {
     "name": "stderr",
     "output_type": "stream",
     "text": [
      "WARNING: PossiblySlowWarning: This function (<function BaseSpectralCube.to at 0x12bbb7b50>) requires loading the entire cube into memory and may therefore be slow. [spectral_cube.utils]\n",
      "WARNING: PossiblySlowWarning: This function (<function BaseSpectralCube.max at 0x12bbb4ca0>) requires loading the entire cube into memory and may therefore be slow. [spectral_cube.utils]\n",
      "/Users/abarnes/opt/anaconda3/envs/python3p10/lib/python3.10/site-packages/spectral_cube/spectral_cube.py:439: RuntimeWarning: All-NaN slice encountered\n",
      "  out = function(self._get_filled_data(fill=fill,\n"
     ]
    }
   ],
   "source": [
    "def get_moms_wmask(input_file, input_mask=None):\n",
    "\n",
    "    print(input_file)\n",
    "    output_file = input_file.replace('CloudH_lines', 'CloudH_lines_moms') \n",
    "\n",
    "    cube = SpectralCubePlus.read(input_file)\n",
    "    cube.allow_huge_operations = True\n",
    "    cube = cube.with_spectral_unit(u.km / u.s) \n",
    "    cube = cube.to('K')\n",
    "\n",
    "    rms = cube.get_rms_auto()\n",
    "    mask = cube < cube.rms\n",
    "    rms = cube.get_rms_auto(mask)\n",
    "\n",
    "    # _ = cube.get_expmask(hthresh=4, lthresh=2)\n",
    "    cube.expmask = input_mask\n",
    "\n",
    "    mom8 = cube.max(axis=0)\n",
    "    mom0 = cube.moment0()\n",
    "    # mom0err = cube.moment0err()\n",
    "\n",
    "    mom8.write(output_file.replace('.fits', '_n2hpmask_max.fits'), overwrite=True)\n",
    "    mom0.write(output_file.replace('.fits', '_n2hpmask_mom0.fits'), overwrite=True)\n",
    "    # mom0err.write(output_file.replace('.fits', '_n2hpmask_mom0err.fits'), overwrite=True)\n",
    "\n",
    "    return cube \n",
    "\n",
    "cube_n2dp = get_moms_wmask(file_n2dp, cube_n2hp.mask)"
   ]
  },
  {
   "cell_type": "code",
   "execution_count": null,
   "metadata": {},
   "outputs": [],
   "source": []
  }
 ],
 "metadata": {
  "kernelspec": {
   "display_name": "base",
   "language": "python",
   "name": "python3"
  },
  "language_info": {
   "codemirror_mode": {
    "name": "ipython",
    "version": 3
   },
   "file_extension": ".py",
   "mimetype": "text/x-python",
   "name": "python",
   "nbconvert_exporter": "python",
   "pygments_lexer": "ipython3",
   "version": "3.9.13"
  }
 },
 "nbformat": 4,
 "nbformat_minor": 2
}
