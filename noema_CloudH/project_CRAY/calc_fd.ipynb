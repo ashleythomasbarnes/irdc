{
 "cells": [
  {
   "cell_type": "markdown",
   "metadata": {},
   "source": [
    "# CO Freezeout \n",
    "Script to calculate the freeze-out from C18O "
   ]
  },
  {
   "cell_type": "code",
   "execution_count": 1,
   "metadata": {},
   "outputs": [],
   "source": [
    "import numpy as np\n",
    "import matplotlib.pyplot as plt\n",
    "from astropy.io import fits\n",
    "import astropy.units as u\n",
    "import astropy.constants as const"
   ]
  },
  {
   "cell_type": "code",
   "execution_count": 2,
   "metadata": {},
   "outputs": [
    {
     "ename": "FileNotFoundError",
     "evalue": "[Errno 2] No such file or directory: './data/coldense_H2.fits'",
     "output_type": "error",
     "traceback": [
      "\u001b[0;31m---------------------------------------------------------------------------\u001b[0m",
      "\u001b[0;31mFileNotFoundError\u001b[0m                         Traceback (most recent call last)",
      "\u001b[0;32m/var/folders/3y/cmsgt3_x7x72bbs__zhy_q6h0008wr/T/ipykernel_54594/3329066640.py\u001b[0m in \u001b[0;36m<module>\u001b[0;34m\u001b[0m\n\u001b[1;32m      5\u001b[0m \u001b[0;34m\u001b[0m\u001b[0m\n\u001b[1;32m      6\u001b[0m \u001b[0mfile_N_H2\u001b[0m \u001b[0;34m=\u001b[0m \u001b[0;34m'./data/coldense_H2.fits'\u001b[0m\u001b[0;34m\u001b[0m\u001b[0;34m\u001b[0m\u001b[0m\n\u001b[0;32m----> 7\u001b[0;31m \u001b[0mhdu_N_H2\u001b[0m \u001b[0;34m=\u001b[0m \u001b[0mfits\u001b[0m\u001b[0;34m.\u001b[0m\u001b[0mopen\u001b[0m\u001b[0;34m(\u001b[0m\u001b[0mfile_N_H2\u001b[0m\u001b[0;34m)\u001b[0m\u001b[0;34m[\u001b[0m\u001b[0;36m0\u001b[0m\u001b[0;34m]\u001b[0m\u001b[0;34m\u001b[0m\u001b[0;34m\u001b[0m\u001b[0m\n\u001b[0m\u001b[1;32m      8\u001b[0m \u001b[0mdata_N_H2\u001b[0m \u001b[0;34m=\u001b[0m \u001b[0mhdu_N_H2\u001b[0m\u001b[0;34m.\u001b[0m\u001b[0mdata\u001b[0m\u001b[0;34m\u001b[0m\u001b[0;34m\u001b[0m\u001b[0m\n\u001b[1;32m      9\u001b[0m \u001b[0mheader_N_H2\u001b[0m \u001b[0;34m=\u001b[0m \u001b[0mhdu_N_H2\u001b[0m\u001b[0;34m.\u001b[0m\u001b[0mheader\u001b[0m\u001b[0;34m\u001b[0m\u001b[0;34m\u001b[0m\u001b[0m\n",
      "\u001b[0;32m~/opt/anaconda3/lib/python3.9/site-packages/astropy/io/fits/hdu/hdulist.py\u001b[0m in \u001b[0;36mfitsopen\u001b[0;34m(name, mode, memmap, save_backup, cache, lazy_load_hdus, ignore_missing_simple, use_fsspec, fsspec_kwargs, **kwargs)\u001b[0m\n\u001b[1;32m    211\u001b[0m         \u001b[0;32mraise\u001b[0m \u001b[0mValueError\u001b[0m\u001b[0;34m(\u001b[0m\u001b[0;34mf\"Empty filename: {name!r}\"\u001b[0m\u001b[0;34m)\u001b[0m\u001b[0;34m\u001b[0m\u001b[0;34m\u001b[0m\u001b[0m\n\u001b[1;32m    212\u001b[0m \u001b[0;34m\u001b[0m\u001b[0m\n\u001b[0;32m--> 213\u001b[0;31m     return HDUList.fromfile(\n\u001b[0m\u001b[1;32m    214\u001b[0m         \u001b[0mname\u001b[0m\u001b[0;34m,\u001b[0m\u001b[0;34m\u001b[0m\u001b[0;34m\u001b[0m\u001b[0m\n\u001b[1;32m    215\u001b[0m         \u001b[0mmode\u001b[0m\u001b[0;34m,\u001b[0m\u001b[0;34m\u001b[0m\u001b[0;34m\u001b[0m\u001b[0m\n",
      "\u001b[0;32m~/opt/anaconda3/lib/python3.9/site-packages/astropy/io/fits/hdu/hdulist.py\u001b[0m in \u001b[0;36mfromfile\u001b[0;34m(cls, fileobj, mode, memmap, save_backup, cache, lazy_load_hdus, ignore_missing_simple, **kwargs)\u001b[0m\n\u001b[1;32m    474\u001b[0m         documentation for details of the parameters accepted by this method).\n\u001b[1;32m    475\u001b[0m         \"\"\"\n\u001b[0;32m--> 476\u001b[0;31m         return cls._readfrom(\n\u001b[0m\u001b[1;32m    477\u001b[0m             \u001b[0mfileobj\u001b[0m\u001b[0;34m=\u001b[0m\u001b[0mfileobj\u001b[0m\u001b[0;34m,\u001b[0m\u001b[0;34m\u001b[0m\u001b[0;34m\u001b[0m\u001b[0m\n\u001b[1;32m    478\u001b[0m             \u001b[0mmode\u001b[0m\u001b[0;34m=\u001b[0m\u001b[0mmode\u001b[0m\u001b[0;34m,\u001b[0m\u001b[0;34m\u001b[0m\u001b[0;34m\u001b[0m\u001b[0m\n",
      "\u001b[0;32m~/opt/anaconda3/lib/python3.9/site-packages/astropy/io/fits/hdu/hdulist.py\u001b[0m in \u001b[0;36m_readfrom\u001b[0;34m(cls, fileobj, data, mode, memmap, cache, lazy_load_hdus, ignore_missing_simple, use_fsspec, fsspec_kwargs, **kwargs)\u001b[0m\n\u001b[1;32m   1144\u001b[0m             \u001b[0;32mif\u001b[0m \u001b[0;32mnot\u001b[0m \u001b[0misinstance\u001b[0m\u001b[0;34m(\u001b[0m\u001b[0mfileobj\u001b[0m\u001b[0;34m,\u001b[0m \u001b[0m_File\u001b[0m\u001b[0;34m)\u001b[0m\u001b[0;34m:\u001b[0m\u001b[0;34m\u001b[0m\u001b[0;34m\u001b[0m\u001b[0m\n\u001b[1;32m   1145\u001b[0m                 \u001b[0;31m# instantiate a FITS file object (ffo)\u001b[0m\u001b[0;34m\u001b[0m\u001b[0;34m\u001b[0m\u001b[0m\n\u001b[0;32m-> 1146\u001b[0;31m                 fileobj = _File(\n\u001b[0m\u001b[1;32m   1147\u001b[0m                     \u001b[0mfileobj\u001b[0m\u001b[0;34m,\u001b[0m\u001b[0;34m\u001b[0m\u001b[0;34m\u001b[0m\u001b[0m\n\u001b[1;32m   1148\u001b[0m                     \u001b[0mmode\u001b[0m\u001b[0;34m=\u001b[0m\u001b[0mmode\u001b[0m\u001b[0;34m,\u001b[0m\u001b[0;34m\u001b[0m\u001b[0;34m\u001b[0m\u001b[0m\n",
      "\u001b[0;32m~/opt/anaconda3/lib/python3.9/site-packages/astropy/io/fits/file.py\u001b[0m in \u001b[0;36m__init__\u001b[0;34m(self, fileobj, mode, memmap, overwrite, cache, use_fsspec, fsspec_kwargs)\u001b[0m\n\u001b[1;32m    215\u001b[0m             \u001b[0mself\u001b[0m\u001b[0;34m.\u001b[0m\u001b[0m_open_fileobj\u001b[0m\u001b[0;34m(\u001b[0m\u001b[0mfileobj\u001b[0m\u001b[0;34m,\u001b[0m \u001b[0mmode\u001b[0m\u001b[0;34m,\u001b[0m \u001b[0moverwrite\u001b[0m\u001b[0;34m)\u001b[0m\u001b[0;34m\u001b[0m\u001b[0;34m\u001b[0m\u001b[0m\n\u001b[1;32m    216\u001b[0m         \u001b[0;32melif\u001b[0m \u001b[0misinstance\u001b[0m\u001b[0;34m(\u001b[0m\u001b[0mfileobj\u001b[0m\u001b[0;34m,\u001b[0m \u001b[0;34m(\u001b[0m\u001b[0mstr\u001b[0m\u001b[0;34m,\u001b[0m \u001b[0mbytes\u001b[0m\u001b[0;34m)\u001b[0m\u001b[0;34m)\u001b[0m\u001b[0;34m:\u001b[0m\u001b[0;34m\u001b[0m\u001b[0;34m\u001b[0m\u001b[0m\n\u001b[0;32m--> 217\u001b[0;31m             \u001b[0mself\u001b[0m\u001b[0;34m.\u001b[0m\u001b[0m_open_filename\u001b[0m\u001b[0;34m(\u001b[0m\u001b[0mfileobj\u001b[0m\u001b[0;34m,\u001b[0m \u001b[0mmode\u001b[0m\u001b[0;34m,\u001b[0m \u001b[0moverwrite\u001b[0m\u001b[0;34m)\u001b[0m\u001b[0;34m\u001b[0m\u001b[0;34m\u001b[0m\u001b[0m\n\u001b[0m\u001b[1;32m    218\u001b[0m         \u001b[0;32melse\u001b[0m\u001b[0;34m:\u001b[0m\u001b[0;34m\u001b[0m\u001b[0;34m\u001b[0m\u001b[0m\n\u001b[1;32m    219\u001b[0m             \u001b[0mself\u001b[0m\u001b[0;34m.\u001b[0m\u001b[0m_open_filelike\u001b[0m\u001b[0;34m(\u001b[0m\u001b[0mfileobj\u001b[0m\u001b[0;34m,\u001b[0m \u001b[0mmode\u001b[0m\u001b[0;34m,\u001b[0m \u001b[0moverwrite\u001b[0m\u001b[0;34m)\u001b[0m\u001b[0;34m\u001b[0m\u001b[0;34m\u001b[0m\u001b[0m\n",
      "\u001b[0;32m~/opt/anaconda3/lib/python3.9/site-packages/astropy/io/fits/file.py\u001b[0m in \u001b[0;36m_open_filename\u001b[0;34m(self, filename, mode, overwrite)\u001b[0m\n\u001b[1;32m    624\u001b[0m \u001b[0;34m\u001b[0m\u001b[0m\n\u001b[1;32m    625\u001b[0m         \u001b[0;32mif\u001b[0m \u001b[0;32mnot\u001b[0m \u001b[0mself\u001b[0m\u001b[0;34m.\u001b[0m\u001b[0m_try_read_compressed\u001b[0m\u001b[0;34m(\u001b[0m\u001b[0mself\u001b[0m\u001b[0;34m.\u001b[0m\u001b[0mname\u001b[0m\u001b[0;34m,\u001b[0m \u001b[0mmagic\u001b[0m\u001b[0;34m,\u001b[0m \u001b[0mmode\u001b[0m\u001b[0;34m,\u001b[0m \u001b[0mext\u001b[0m\u001b[0;34m=\u001b[0m\u001b[0mext\u001b[0m\u001b[0;34m)\u001b[0m\u001b[0;34m:\u001b[0m\u001b[0;34m\u001b[0m\u001b[0;34m\u001b[0m\u001b[0m\n\u001b[0;32m--> 626\u001b[0;31m             \u001b[0mself\u001b[0m\u001b[0;34m.\u001b[0m\u001b[0m_file\u001b[0m \u001b[0;34m=\u001b[0m \u001b[0mopen\u001b[0m\u001b[0;34m(\u001b[0m\u001b[0mself\u001b[0m\u001b[0;34m.\u001b[0m\u001b[0mname\u001b[0m\u001b[0;34m,\u001b[0m \u001b[0mIO_FITS_MODES\u001b[0m\u001b[0;34m[\u001b[0m\u001b[0mmode\u001b[0m\u001b[0;34m]\u001b[0m\u001b[0;34m)\u001b[0m\u001b[0;34m\u001b[0m\u001b[0;34m\u001b[0m\u001b[0m\n\u001b[0m\u001b[1;32m    627\u001b[0m             \u001b[0mself\u001b[0m\u001b[0;34m.\u001b[0m\u001b[0mclose_on_error\u001b[0m \u001b[0;34m=\u001b[0m \u001b[0;32mTrue\u001b[0m\u001b[0;34m\u001b[0m\u001b[0;34m\u001b[0m\u001b[0m\n\u001b[1;32m    628\u001b[0m \u001b[0;34m\u001b[0m\u001b[0m\n",
      "\u001b[0;31mFileNotFoundError\u001b[0m: [Errno 2] No such file or directory: './data/coldense_H2.fits'"
     ]
    }
   ],
   "source": [
    "file_c180 = './data/c18o_mom0_reprojected.fits'\n",
    "hdu_c180 = fits.open(file_c180)[0]\n",
    "data_c180 = hdu_c180.data\n",
    "header_c180 = hdu_c180.header\n",
    "\n",
    "file_N_H2 = './data/coldense_H2.fits'\n",
    "hdu_N_H2 = fits.open(file_N_H2)[0]\n",
    "data_N_H2 = hdu_N_H2.data\n",
    "header_N_H2 = hdu_N_H2.header"
   ]
  },
  {
   "cell_type": "code",
   "execution_count": null,
   "metadata": {},
   "outputs": [],
   "source": [
    "import numpy as np\n",
    "import astropy.units as u\n",
    "import astropy.constants as const\n",
    "\n",
    "def compute_C18O_column_density_alt(W, T_ex=7.5*u.K, eta=1.0, f_clump=1.0):\n",
    "    \"\"\"\n",
    "    Compute the C18O column density from the integrated intensity W (in K km/s)\n",
    "    using the optically thin equation with explicit constants for the J=1-0 transition.\n",
    "    \n",
    "    The equation used is:\n",
    "    \n",
    "      dN_C18O/dv = 6.571e14 * [Q_rot / (f(T_ex) - f(T_bg)] \n",
    "                    * [1 - exp(-hν/(kT_ex))]^-1 * (T*_A/(η f_clump))\n",
    "                    \n",
    "      where f(T) = 1/(exp(hν/(kT)) - 1) and T_bg = 2.725 K.\n",
    "      \n",
    "    Then the total column density is given by:\n",
    "    \n",
    "      N_C18O = (dN_C18O/dv) * W.\n",
    "    \n",
    "    Parameters\n",
    "    ----------\n",
    "    W : astropy.units.Quantity\n",
    "        Integrated intensity (T*_A) map in units of K km/s.\n",
    "    T_ex : astropy.units.Quantity, optional\n",
    "        Excitation temperature (default is 7.5 K).\n",
    "    eta : float, optional\n",
    "        Beam filling factor (default is 1.0).\n",
    "    f_clump : float, optional\n",
    "        Clump (beam dilution) factor (default is 1.0).\n",
    "        \n",
    "    Returns\n",
    "    -------\n",
    "    N_C18O : astropy.units.Quantity\n",
    "        C18O column density in cm^-2.\n",
    "    \"\"\"\n",
    "    # Physical constants in cgs units.\n",
    "    h = const.h.cgs      # erg s\n",
    "    k = const.k_B.cgs    # erg/K\n",
    "    c = const.c.cgs      # cm/s\n",
    "\n",
    "    # Frequency for C18O J=1-0.\n",
    "    # Hernandez et al. (2011) quote hν/k = 5.269 K, so:\n",
    "    nu = (5.269 * u.K * k / h).to(u.Hz)\n",
    "    # Alternatively, one might use: nu = 109.782e9 * u.Hz\n",
    "\n",
    "    # Einstein A coefficient for C18O J=1-0.\n",
    "    A_ul = 6.266e-8 / u.s\n",
    "\n",
    "    # Rotational constant for C18O.\n",
    "    B = 5.4891e10 / u.s\n",
    "\n",
    "    # Define f(T) = 1/(exp(hν/(kT)) - 1)\n",
    "    def f_func(T):\n",
    "        return 1.0 / (np.exp((h * nu / (k * T)).decompose().value) - 1)\n",
    "    \n",
    "    f_Tex = f_func(T_ex)\n",
    "    f_Tbg = f_func(2.725 * u.K)\n",
    "    \n",
    "    # Compute the rotational partition function Q_rot by summing over J levels.\n",
    "    # For a linear molecule: Q_rot = Σ_{J=0}^{J_max} (2J+1) exp[-J(J+1) hB/(kT_ex)].\n",
    "    Q_rot = 0.0\n",
    "    Jmax = 3  # summing up to J=3 is sufficient for T_ex ~ 7.5 K.\n",
    "    for J in range(Jmax+1):\n",
    "        exponent = -J*(J+1) * (h * B / (k * T_ex)).decompose().value\n",
    "        Q_rot += (2*J + 1) * np.exp(exponent)\n",
    "    Q_rot = Q_rot * u.dimensionless_unscaled\n",
    "\n",
    "    # Now compute the column density per unit velocity using the optically thin formula:\n",
    "    dNdv = (6.571e14 * u.cm**-2 / (u.K * u.km/u.s)) \\\n",
    "           * (Q_rot / (f_Tex - f_Tbg)) \\\n",
    "           * (1.0 / (1.0 - np.exp(- (h * nu / (k * T_ex)).decompose().value)))\n",
    "    \n",
    "    # Multiply by the integrated intensity (and account for eta and f_clump):\n",
    "    N_C18O = dNdv * (W / (eta * f_clump))\n",
    "    \n",
    "    return N_C18O.decompose()\n",
    "\n",
    "# --- Example usage ---\n",
    "\n",
    "# Suppose you have an integrated intensity map (dummy example):\n",
    "W_C18O = np.array([1]) * u.K * u.km/u.s\n",
    "\n",
    "# Compute the C18O column density using the alternative function:\n",
    "N_C18O_alt = compute_C18O_column_density_alt(W_C18O, T_ex=7.5*u.K, eta=1.0, f_clump=1.0)\n",
    "\n",
    "print(\"C18O Column Density (cm^-2):\")\n",
    "print(N_C18O_alt)"
   ]
  },
  {
   "cell_type": "code",
   "execution_count": 3,
   "metadata": {},
   "outputs": [],
   "source": [
    "import numpy as np\n",
    "import astropy.units as u\n",
    "\n",
    "def compute_C18O_column_density(W, eta=1):\n",
    "    \"\"\"\n",
    "    Compute the C18O column density from the integrated intensity W (in K km/s)\n",
    "    in the optically thin limit for the J=1-0 transition (Tex = 7.5 K),\n",
    "    following Hernandez et al. (2011).\n",
    "\n",
    "    Parameters\n",
    "    ----------\n",
    "    W : astropy.units.Quantity\n",
    "        Integrated intensity map in units of K km/s.\n",
    "    eta : float, optional\n",
    "        Beam filling factor (default is 1).\n",
    "\n",
    "    Returns\n",
    "    -------\n",
    "    N_C18O : astropy.units.Quantity\n",
    "        C18O column density in cm^-2.\n",
    "    \"\"\"\n",
    "    # The factor from Hernandez et al. (2011) for Tex = 7.5 K:\n",
    "    factor = 9.758e14 * u.cm**-2 / (u.K * u.km/u.s)\n",
    "    N_C18O = factor * (W / eta)\n",
    "    return N_C18O\n",
    "\n",
    "def convert_C18O_to_H2_column(N_C18O, X_C18O=6.12e-7):\n",
    "    \"\"\"\n",
    "    Convert the C18O column density to an H2 column density using the\n",
    "    assumed abundance ratio X_C18O = N(C18O)/N(H2).\n",
    "\n",
    "    Parameters\n",
    "    ----------\n",
    "    N_C18O : astropy.units.Quantity\n",
    "        C18O column density in cm^-2.\n",
    "    X_C18O : float, optional\n",
    "        Assumed abundance of C18O relative to H2 (default is 6.12e-7).\n",
    "\n",
    "    Returns\n",
    "    -------\n",
    "    N_H2 : astropy.units.Quantity\n",
    "        H2 column density in cm^-2.\n",
    "    \"\"\"\n",
    "    N_H2 = N_C18O / X_C18O\n",
    "    return N_H2\n",
    "\n",
    "def compute_CO_depletion_factor(N_H2_ext, N_H2_CO):\n",
    "    \"\"\"\n",
    "    Compute the CO depletion factor f_D, defined as the ratio of the \n",
    "    independent H2 column density (from, e.g., extinction mapping) to that \n",
    "    derived from the CO data.\n",
    "\n",
    "    Parameters\n",
    "    ----------\n",
    "    N_H2_ext : astropy.units.Quantity\n",
    "        H2 column density from an independent method (e.g., extinction) in cm^-2.\n",
    "    N_H2_CO : astropy.units.Quantity\n",
    "        H2 column density derived from C18O in cm^-2.\n",
    "\n",
    "    Returns\n",
    "    -------\n",
    "    f_D : astropy.units.Quantity\n",
    "        CO depletion factor (dimensionless).\n",
    "    \"\"\"\n",
    "    return N_H2_ext / N_H2_CO\n",
    "\n",
    "# --- Example usage ---\n",
    "\n",
    "# Suppose you have a C18O J=1-0 integrated intensity map (dummy example):\n",
    "W_C18O = data_c180 * u.K * u.km/u.s\n",
    "\n",
    "# Compute the C18O column density:\n",
    "N_C18O = compute_C18O_column_density(W_C18O, eta=1)\n",
    "\n",
    "# Convert the C18O column density to an H2 column density using the abundance ratio.\n",
    "#n16O/n18O = 327 from Wilson & Rood (1994) and n12CO/nH2 = 2×10−4 from Lacy et al. (1994).\n",
    "N_H2_CO = convert_C18O_to_H2_column(N_C18O, X_C18O=6.12e-7)\n",
    "\n",
    "# Suppose you have an independent H2 column density map (e.g., from extinction):\n",
    "N_H2_ext = data_N_H2 * u.cm**-2\n",
    "\n",
    "# Compute the depletion factor:\n",
    "f_D = compute_CO_depletion_factor(N_H2_ext, N_H2_CO)"
   ]
  },
  {
   "cell_type": "code",
   "execution_count": 4,
   "metadata": {},
   "outputs": [],
   "source": [
    "hdu_f_D = fits.PrimaryHDU(f_D.value, header=header_c180)\n",
    "hdu_f_D.writeto('./data/f_D.fits', overwrite=True)"
   ]
  },
  {
   "cell_type": "code",
   "execution_count": 5,
   "metadata": {},
   "outputs": [
    {
     "name": "stderr",
     "output_type": "stream",
     "text": [
      "/var/folders/3y/cmsgt3_x7x72bbs__zhy_q6h0008wr/T/ipykernel_17465/1945690250.py:4: RuntimeWarning: invalid value encountered in log10\n",
      "  plt.hist(np.log10(N_H2_ext.value.flatten()), bins=100, histtype='step', label='N_H2_ext')\n"
     ]
    },
    {
     "data": {
      "text/plain": [
       "Text(0, 0.5, 'N')"
      ]
     },
     "execution_count": 5,
     "metadata": {},
     "output_type": "execute_result"
    },
    {
     "data": {
      "image/png": "[encoded data removed]",
      "text/plain": [
       "<Figure size 640x480 with 1 Axes>"
      ]
     },
     "metadata": {},
     "output_type": "display_data"
    }
   ],
   "source": [
    "# plot hist of N_H2\n",
    "plt.figure()\n",
    "plt.hist(np.log10(N_H2_CO.value.flatten()), bins=100, histtype='step', label='N_H2_CO')\n",
    "plt.hist(np.log10(N_H2_ext.value.flatten()), bins=100, histtype='step', label='N_H2_ext')\n",
    "plt.legend()\n",
    "plt.xlabel('log10(N_H2)')\n",
    "plt.ylabel('N')"
   ]
  },
  {
   "cell_type": "code",
   "execution_count": 6,
   "metadata": {},
   "outputs": [
    {
     "data": {
      "text/plain": [
       "Text(0, 0.5, 'N')"
      ]
     },
     "execution_count": 6,
     "metadata": {},
     "output_type": "execute_result"
    },
    {
     "data": {
      "image/png": "[encoded data removed]",
      "text/plain": [
       "<Figure size 640x480 with 1 Axes>"
      ]
     },
     "metadata": {},
     "output_type": "display_data"
    }
   ],
   "source": [
    "# plot hist of f_D\n",
    "plt.figure()\n",
    "plt.hist(f_D.value.flatten(), bins=100, histtype='step')\n",
    "plt.xlabel('f_D')\n",
    "plt.ylabel('N')"
   ]
  },
  {
   "cell_type": "code",
   "execution_count": null,
   "metadata": {},
   "outputs": [],
   "source": []
  }
 ],
 "metadata": {
  "kernelspec": {
   "display_name": "base",
   "language": "python",
   "name": "python3"
  },
  "language_info": {
   "codemirror_mode": {
    "name": "ipython",
    "version": 3
   },
   "file_extension": ".py",
   "mimetype": "text/x-python",
   "name": "python",
   "nbconvert_exporter": "python",
   "pygments_lexer": "ipython3",
   "version": "3.9.13"
  }
 },
 "nbformat": 4,
 "nbformat_minor": 2
}
