{
 "cells": [
  {
   "cell_type": "code",
   "execution_count": 15,
   "metadata": {},
   "outputs": [],
   "source": [
    "import warnings\n",
    "warnings.filterwarnings('ignore')\n",
    "\n",
    "from astropy.io import fits\n",
    "import numpy as np\n",
    "import matplotlib.pyplot as plt\n",
    "import glob \n",
    "import aplpy\n",
    "from tqdm.auto import tqdm\n",
    "from astropy.utils.console import ProgressBar\n",
    "\n",
    "import sys\n",
    "sys.path.append('/Users/abarnes/GitHub/misc/data_cube_analysis/')\n",
    "\n",
    "plt.rcParams[\"font.family\"] = \"sans-serif\"\n",
    "plt.rcParams[\"font.weight\"] = \"bold\"\n",
    "plt.rcParams[\"axes.labelweight\"] = \"bold\"\n",
    "plt.rcParams[\"xtick.direction\"] = \"in\"\n",
    "plt.rcParams[\"ytick.direction\"] = \"in\" \n",
    "\n",
    "\n",
    "import getdata\n",
    "import moments\n",
    "import rms\n",
    "import masks"
   ]
  },
  {
   "cell_type": "code",
   "execution_count": 16,
   "metadata": {},
   "outputs": [
    {
     "data": {
      "text/plain": [
       "array(['/Users/abarnes/Dropbox/work/Projects/NOEMA/data/CloudH/CloudH_DCN_L10-merged.fits',\n",
       "       '/Users/abarnes/Dropbox/work/Projects/NOEMA/data/CloudH/CloudH_DCOp_L09-merged.fits',\n",
       "       '/Users/abarnes/Dropbox/work/Projects/NOEMA/data/CloudH/CloudH_DNC_L16-merged.fits',\n",
       "       '/Users/abarnes/Dropbox/work/Projects/NOEMA/data/CloudH/CloudH_HCN_L22-merged.fits',\n",
       "       '/Users/abarnes/Dropbox/work/Projects/NOEMA/data/CloudH/CloudH_HCOp_L25-merged.fits',\n",
       "       '/Users/abarnes/Dropbox/work/Projects/NOEMA/data/CloudH/CloudH_HNC_L27-merged.fits',\n",
       "       '/Users/abarnes/Dropbox/work/Projects/NOEMA/data/CloudH/CloudH_N2Dp_L18-merged.fits',\n",
       "       '/Users/abarnes/Dropbox/work/Projects/NOEMA/data/CloudH/CloudH_N2Hp_L30-merged.fits'],\n",
       "      dtype='<U82')"
      ]
     },
     "execution_count": 16,
     "metadata": {},
     "output_type": "execute_result"
    }
   ],
   "source": [
    "inputdir = '/Users/abarnes/Dropbox/work/Projects/NOEMA/data/CloudH/'\n",
    "inputfiles = glob.glob('%s/*.fits' %inputdir)\n",
    "inputfiles = np.sort(inputfiles)\n",
    "inputfiles.sort()\n",
    "inputfiles"
   ]
  },
  {
   "cell_type": "code",
   "execution_count": 17,
   "metadata": {},
   "outputs": [],
   "source": [
    "# def makeplot(moms, inputfile, outputdir = './../figures/'):\n",
    "\n",
    "#     bbox = dict(facecolor='whitesmoke',  alpha=0.95, boxstyle='round')\n",
    "#     fig = plt.figure(figsize=(4, 4))\n",
    "#     ax = aplpy.FITSFigure(moms['max'], figure=fig)\n",
    "\n",
    "#     vmin, vmax = np.nanpercentile(moms['max'].data, (0.5, 99.5))\n",
    "#     ax.show_colorscale(vmin=vmin, vmax=vmax, cmap='inferno')\n",
    "\n",
    "#     ax.axis_labels.hide()\n",
    "#     ax.tick_labels.hide()\n",
    "\n",
    "#     ax.add_colorbar()\n",
    "#     ax.ticks.set_color('black')\n",
    "#     ax.colorbar.set_width(0.15)\n",
    "\n",
    "#     label = inputfile.split('/')[-1].split('.')[0].replace('CloudH_', '')\n",
    "#     label = label.split('_')[0]\n",
    "#     ax.add_label(0.05, 0.95, label,  ha='left', va='top', size=10, bbox = bbox, relative=True)\n",
    "\n",
    "#     ax.show_contour(moms['maxs2n'], levels=[3,5], colors='black', linewidths=0.5, smooth=1)\n",
    "\n",
    "#     ax.set_nan_color('lightgrey')\n",
    "\n",
    "#     ax_plot = fig.get_axes()[-2]\n",
    "#     ax_plot.grid(True, alpha=0.35, ls=':', color='white')\n",
    "\n",
    "#     ax.colorbar.set_axis_label_text('T (max) [K]')\n",
    "\n",
    "#     ax.colorbar.set_location('top')\n",
    "#     axcbar = fig.get_axes()[-1]\n",
    "#     axcbar.xaxis.set_ticks_position('top')\n",
    "\n",
    "#     ax_cbar = fig.get_axes()[-1]\n",
    "#     ax_cbar.yaxis.set_ticks_position('both')\n",
    "\n",
    "#     fig.tight_layout(h_pad=0, w_pad=0.3)\n",
    "\n",
    "#     outputfile = outputdir+inputfile.split('/')[-1].replace('.fits', '.png')\n",
    "#     # outputfile = inputfile.replace('.fits', '.png').replace('cubes_processed', 'figures')\n",
    "#     fig.savefig(outputfile, bbox_inches='tight', dpi=300)  \n",
    "#     plt.close('all')\n",
    "    \n",
    "#     return()"
   ]
  },
  {
   "cell_type": "code",
   "execution_count": 18,
   "metadata": {},
   "outputs": [],
   "source": [
    "def makeplot(moms, msd, hdu_mapmask, inputfile, outputdir = './../figures/'):\n",
    "\n",
    "    bbox = dict(facecolor='whitesmoke',  alpha=0.95, boxstyle='round')\n",
    "    \n",
    "    fig = plt.figure(figsize=(7, 4))\n",
    "    ax = aplpy.FITSFigure(moms['max'], figure=fig, subplot=(1,2,1))\n",
    "    ax2 = aplpy.FITSFigure(msd, figure=fig, subplot=(1,2,2))\n",
    "\n",
    "    vmin, vmax = np.nanpercentile(moms['max'].data, (0.5, 99.5))\n",
    "    ax.show_colorscale(vmin=vmin, vmax=vmax, cmap='inferno')\n",
    "    ax2.show_colorscale(vmin=0, vmax=0.3, cmap='turbo')\n",
    "\n",
    "    for ax_ in [ax, ax2]:\n",
    "\n",
    "        ax_.axis_labels.hide()\n",
    "        ax_.tick_labels.hide()\n",
    "\n",
    "        ax_.add_colorbar()\n",
    "        ax_.ticks.set_color('black')\n",
    "        ax_.colorbar.set_width(0.15)\n",
    "\n",
    "        levels = np.nanmax(moms['max'].data)*np.linspace(0.25,0.99,6)\n",
    "        max_tmp = moms['max'].copy()\n",
    "        max_tmp.data[np.isnan(max_tmp.data)] = 0\n",
    "        ax_.show_contour(max_tmp, levels=levels, colors='black', linewidths=0.5, smooth=1)\n",
    "        # ax_.show_contour(moms['maxs2n'], levels=[3,5,10,15,20,25,50], colors='black', linewidths=0.5, smooth=1)\n",
    "        ax_.show_contour(hdu_mapmask, levels=[1], colors='black', linewidths=0.5, linestyles='--')\n",
    "        ax_.set_nan_color('lightgrey')\n",
    "        ax_.recenter(284.2821892, 2.1782806, 0.0413832, 0.0689720)\n",
    "\n",
    "    label = inputfile.split('/')[-1].split('.')[0].replace('CloudH_', '')\n",
    "    label = label.split('_')[0]\n",
    "    ax.add_label(0.05, 0.95, label,  ha='left', va='top', size=10, bbox = bbox, relative=True)\n",
    "\n",
    "    # ax_plot = fig.get_axes()[-1]\n",
    "    # ax_plot.grid(True, alpha=0.35, ls=':', color='white')\n",
    "\n",
    "    ax.colorbar.set_axis_label_text('T (max) [K]')\n",
    "    ax2.colorbar.set_axis_label_text('Mass Surface Density [g/cm2]')\n",
    "\n",
    "    ax.colorbar.set_location('top')\n",
    "    ax2.colorbar.set_location('top')\n",
    "\n",
    "    axes = fig.get_axes()\n",
    "    for ax_ in axes: \n",
    "        ax_.set_facecolor('lightgrey')\n",
    "        ax_.grid(True, alpha=0.35, ls=':', color='white')\n",
    "\n",
    "    fig.tight_layout(h_pad=0, w_pad=0.3)\n",
    "\n",
    "    outputfile = outputdir+inputfile.split('/')[-1].replace('.fits', '.png')\n",
    "    fig.savefig(outputfile, bbox_inches='tight', dpi=300)  \n",
    "\n",
    "    outputfile = outputdir+inputfile.split('/')[-1].replace('.fits', '.pdf')\n",
    "    fig.savefig(outputfile, bbox_inches='tight', dpi=300)  \n",
    "    plt.close('all')\n",
    "    \n",
    "    return()"
   ]
  },
  {
   "cell_type": "code",
   "execution_count": 19,
   "metadata": {},
   "outputs": [],
   "source": [
    "# inputfiles = ['/Users/abarnes/Dropbox/work/Projects/NOEMA/data/CloudH/CloudH_N2Dp_L18-merged.fits']\n",
    "# inputfiles = ['/Users/abarnes/Dropbox/work/Projects/NOEMA/data/CloudH/CloudH_DCN_L10-merged.fits']\n",
    "# inputfiles = ['/Users/abarnes/Dropbox/work/Projects/NOEMA/data/CloudH/CloudH_N2Hp_L30-merged.fits']"
   ]
  },
  {
   "cell_type": "code",
   "execution_count": 20,
   "metadata": {},
   "outputs": [
    {
     "data": {
      "application/vnd.jupyter.widget-view+json": {
       "model_id": "0af382e1686f4e21b5f3bbb324de031c",
       "version_major": 2,
       "version_minor": 0
      },
      "text/plain": [
       "  0%|          | 0/8 [00:00<?, ?it/s]"
      ]
     },
     "metadata": {},
     "output_type": "display_data"
    }
   ],
   "source": [
    "mom_velocitydict = {'cloudH': np.array([35, 55])}\n",
    "rms_velocitydict = {'cloudH': np.array([[-200, 30], [60, 200]])}\n",
    "\n",
    "hdu_msd = fits.open('/Users/abarnes/Dropbox/work/Projects/KT_extinction_maps/new/data/cloudH.msd.fits')[0]\n",
    "\n",
    "for inputfile in tqdm(inputfiles):\n",
    "\n",
    "    cloud = inputfile.split('/')[-1].split('_')[0]\n",
    "    hdu = fits.open(inputfile)[0]\n",
    "    cube = getdata.get_cube(hdu)\n",
    "    rms_map = rms.get_rmsrob(cube)\n",
    "    hdu_mapmask = fits.PrimaryHDU(~np.isnan(rms_map.data)*1, rms_map.header)\n",
    "\n",
    "    mask = masks.get_expmask(cube, rms_map, hthresh=3, lthresh=2, beamarea=1, npix=3)\n",
    "    cube_masked = cube.with_mask(mask)\n",
    "    velo = np.array([-200,150])\n",
    "\n",
    "    moms = moments.get_momentmaps(cube_masked, rms_map, mom_velocitydict['cloudH'])\n",
    "    makeplot(moms, hdu_msd, hdu_mapmask, inputfile)\n",
    "\n",
    "    # outputfile = inputfile.replace(inputdir, './../mom_28').replace('.fits', '')\n",
    "    # rms_map.writeto('%s_rms.fits' %outputfile, overwrite=True)\n",
    "    # moms['mom0'].writeto('%s_mom.fits' %outputfile, overwrite=True)\n",
    "    # moms['max'].writeto('%s_max.fits' %outputfile, overwrite=True)\n",
    "    # moms['mom0s2n'].writeto('%s_mom0s2n.fits' %outputfile, overwrite=True)"
   ]
  }
 ],
 "metadata": {
  "kernelspec": {
   "display_name": "Python 3",
   "language": "python",
   "name": "python3"
  },
  "language_info": {
   "codemirror_mode": {
    "name": "ipython",
    "version": 3
   },
   "file_extension": ".py",
   "mimetype": "text/x-python",
   "name": "python",
   "nbconvert_exporter": "python",
   "pygments_lexer": "ipython3",
   "version": "3.9.13"
  }
 },
 "nbformat": 4,
 "nbformat_minor": 4
}
