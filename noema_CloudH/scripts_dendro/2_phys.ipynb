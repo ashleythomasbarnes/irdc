{
 "cells": [
  {
   "cell_type": "code",
   "execution_count": 40,
   "metadata": {},
   "outputs": [],
   "source": [
    "from imports import *\n",
    "from tools import *\n",
    "\n",
    "msun = units.Msun.to('g')\n",
    "pc2cm = units.pc.to('cm')"
   ]
  },
  {
   "cell_type": "code",
   "execution_count": 41,
   "metadata": {},
   "outputs": [],
   "source": [
    "root_dir = '/Users/abarnes/Dropbox/work/Projects/NOEMA/data/CloudH_continuum/'\n",
    "input_file = '%s/cloudH_3mm_cont.fits' % root_dir\n",
    "\n",
    "output_dir = './dendro/'\n",
    "input_dir = './dendro/'\n",
    "\n",
    "cloud = 'CloudH'\n",
    "distance = 2.9e3"
   ]
  },
  {
   "cell_type": "code",
   "execution_count": 51,
   "metadata": {},
   "outputs": [
    {
     "name": "stdout",
     "output_type": "stream",
     "text": [
      "/Users/abarnes/Dropbox/work/Projects/NOEMA/data/CloudH_continuum//cloudH_3mm_cont.fits CloudH\n"
     ]
    }
   ],
   "source": [
    "print(input_file, cloud)\n",
    "\n",
    "index_map = fits.getdata('%s/%s_index_map.fits' %(input_dir, cloud))\n",
    "props = QTable.read('%s/%s_props.fits' %(input_dir, cloud))\n",
    "hdu = fits.open(input_file)[0]\n",
    "header = hdu.header\n",
    "\n",
    "bave = np.array([header['BMAJ'], header['BMIN']])\n",
    "bave = bave*3600\n",
    "freq = header['RESTFREQ']\n",
    "\n",
    "temp = 12 # Based on ~ average from Sokolov et al. 2017 NH3 data... \n",
    "\n",
    "Nh2_mean = column_density(props['mean_flux'].value, bave, freq, temp)\n",
    "Nh2_peak = column_density(props['max_flux'].value, bave, freq, temp)\n",
    "\n",
    "Mass = mass_calc(props['flux'].value, freq, temp, distance, gas2dust=141)\n",
    "Mass_bgsub = mass_calc(props['flux_bgsub'].value, freq, temp, distance, gas2dust=141)\n",
    "\n",
    "radius_pc = props['radius'].value * (distance/206265)\n",
    "radiusdeconv_pc = props['radius_deconv'].value * (distance/206265)\n",
    "\n",
    "radiuseff_pc = props['radius_eff'].value * (distance/206265)\n",
    "radiuseffdeconv_pc = props['radius_eff_deconv'].value * (distance/206265)\n",
    "\n",
    "n_h2 = number_density_sphere_pc(Mass, radiuseff_pc)\n",
    "n_h2_bgsub = number_density_sphere_pc(Mass_bgsub, radiuseff_pc)\n",
    "\n",
    "rho = get_rho(Mass, radiuseff_pc)\n",
    "rho_bgsub = get_rho(Mass_bgsub, radiuseff_pc)\n",
    "\n",
    "tff = tff_spherical(n_h2)\n",
    "tff_bgsub = tff_spherical(n_h2_bgsub)\n",
    "\n",
    "props.add_column(temp *au.K, name='temp')\n",
    "\n",
    "props.add_column(np.array([distance] *len(radius_pc)) *au.pc, name='distance_pc')\n",
    "\n",
    "props.add_column(radius_pc *au.pc, name='radius_pc')\n",
    "props.add_column(radiusdeconv_pc *au.pc, name='radiusdeconv_pc')\n",
    "props.add_column(radiuseff_pc *au.pc, name='radius_eff_pc')\n",
    "props.add_column(radiuseffdeconv_pc *au.pc, name='radius_eff_deconv_pc')\n",
    "\n",
    "props.add_column(Nh2_mean *au.cm**-2, name='columndensity_mean')\n",
    "props.add_column(Nh2_peak *au.cm**-2, name='columndensity_peak')\n",
    "\n",
    "props.add_column(Mass *au.Msun, name='mass')\n",
    "props.add_column(Mass_bgsub *au.Msun, name='mass_bgsub')\n",
    "props.add_column(n_h2 *au.cm**-3, name='number_density') \n",
    "props.add_column(n_h2_bgsub *au.cm**-3, name='number_density_bgsub')\n",
    "\n",
    "props.add_column(rho, name='volume_density') \n",
    "props.add_column(rho_bgsub, name='volume_density_bgsub')\n",
    "\n",
    "props.add_column(tff *au.Myr, name='tff') \n",
    "props.add_column(tff_bgsub *au.Myr, name='tff_bgsub') \n",
    "\n",
    "props.write('%s/%s_physprop.fits' %(output_dir, cloud), overwrite=True)"
   ]
  },
  {
   "cell_type": "code",
   "execution_count": 52,
   "metadata": {},
   "outputs": [
    {
     "data": {
      "text/latex": [
       "$[6.141261,~3.6882116,~2.9226245,~2.2272667,~1.272177,~1.4311381,~1.6041734,~      ———,~1.1541026,~1.397377,~0.94985832,~1.194758,~      ———,~0.48350211,~      ———,~      ———] \\; \\mathrm{{}^{\\prime\\prime}}$"
      ],
      "text/plain": [
       "<MaskedQuantity [6.14126102, 3.68821161, 2.92262451, 2.22726669,\n",
       "                 1.27217697, 1.43113812, 1.60417335,        ———,\n",
       "                 1.15410263, 1.39737701, 0.94985832, 1.194758  ,\n",
       "                        ———, 0.48350211,        ———,        ———] arcsec>"
      ]
     },
     "execution_count": 52,
     "metadata": {},
     "output_type": "execute_result"
    }
   ],
   "source": [
    "props['radius_eff_deconv']"
   ]
  },
  {
   "cell_type": "code",
   "execution_count": 53,
   "metadata": {},
   "outputs": [
    {
     "data": {
      "text/plain": [
       "(<MaskedQuantity [6.14126102, 3.68821161, 2.92262451, 2.22726669,\n",
       "                  1.27217697, 1.43113812, 1.60417335,        ———,\n",
       "                  1.15410263, 1.39737701, 0.94985832, 1.194758  ,\n",
       "                         ———, 0.48350211,        ———,        ———] arcsec>,\n",
       " <MaskedQuantity [0.08634357, 0.05185472, 0.04109088, 0.03131444,\n",
       "                  0.01788628, 0.02012121, 0.02255401,        ———,\n",
       "                  0.0162262 , 0.01964654, 0.01335461, 0.0167978 ,\n",
       "                         ———, 0.00679784,        ———,        ———] pc>)"
      ]
     },
     "execution_count": 53,
     "metadata": {},
     "output_type": "execute_result"
    }
   ],
   "source": [
    "props['radius_eff_deconv'].to('arcsec'), props['radius_eff_deconv_pc'].to('pc')"
   ]
  },
  {
   "cell_type": "code",
   "execution_count": 54,
   "metadata": {},
   "outputs": [
    {
     "data": {
      "text/latex": [
       "$[19.275445,~16.218935,~14.236323,~10.589744,~5.8246055,~4.4971377,~4.3221003,~4.2085243,~4.0524036,~3.8210373,~3.2761206,~2.96492,~2.8173395,~2.1324621,~1.2631982,~1.0566872] \\; \\mathrm{M_{\\odot}}$"
      ],
      "text/plain": [
       "<Quantity [19.27544455, 16.21893493, 14.23632284, 10.58974426,  5.82460553,\n",
       "            4.49713769,  4.32210034,  4.20852427,  4.05240365,  3.82103733,\n",
       "            3.27612061,  2.96492002,  2.81733954,  2.13246208,  1.26319816,\n",
       "            1.05668721] solMass>"
      ]
     },
     "execution_count": 54,
     "metadata": {},
     "output_type": "execute_result"
    }
   ],
   "source": [
    "props['mass']"
   ]
  },
  {
   "cell_type": "code",
   "execution_count": 55,
   "metadata": {},
   "outputs": [
    {
     "data": {
      "text/latex": [
       "$[4.9104873,~9.9801712,~6.4421598,~7.2511885,~2.0736529,~2.1612878,~1.7813648,~0.8866621,~1.94203,~1.520127,~1.0491883,~0.84023855,~0.28975739,~0.40994757,~0.24952076,~0.18722933] \\; \\mathrm{M_{\\odot}}$"
      ],
      "text/plain": [
       "<Quantity [4.91048729, 9.98017122, 6.44215977, 7.25118851, 2.07365285,\n",
       "           2.16128784, 1.78136479, 0.8866621 , 1.94203002, 1.52012701,\n",
       "           1.04918826, 0.84023855, 0.28975739, 0.40994757, 0.24952076,\n",
       "           0.18722933] solMass>"
      ]
     },
     "execution_count": 55,
     "metadata": {},
     "output_type": "execute_result"
    }
   ],
   "source": [
    "props['mass_bgsub']"
   ]
  },
  {
   "cell_type": "code",
   "execution_count": 56,
   "metadata": {},
   "outputs": [
    {
     "data": {
      "text/latex": [
       "$[0.25475352,~0.61534073,~0.45251571,~0.68473689,~0.35601602,~0.48059188,~0.41215258,~0.21068242,~0.47922917,~0.39783098,~0.32025325,~0.28339333,~0.10284788,~0.19224143,~0.19753097,~0.1771852] \\; \\mathrm{}$"
      ],
      "text/plain": [
       "<Quantity [0.25475352, 0.61534073, 0.45251571, 0.68473689, 0.35601602,\n",
       "           0.48059188, 0.41215258, 0.21068242, 0.47922917, 0.39783098,\n",
       "           0.32025325, 0.28339333, 0.10284788, 0.19224143, 0.19753097,\n",
       "           0.1771852 ]>"
      ]
     },
     "execution_count": 56,
     "metadata": {},
     "output_type": "execute_result"
    }
   ],
   "source": [
    "props['flux_bgsub'].to('mJy')/props['flux'].to('mJy')"
   ]
  },
  {
   "cell_type": "code",
   "execution_count": 57,
   "metadata": {},
   "outputs": [
    {
     "data": {
      "text/latex": [
       "$[0.022090257,~0.15710681,~0.16390624,~0.29392182,~0.15669356,~0.14834881,~0.10956944,~0.16692986,~0.1570234,~0.10653671,~0.094471069,~0.066399555,~0.082865918,~0.044389077,~0.073313866,~0.056546628] \\; \\mathrm{\\frac{1}{cm^{3}}}$"
      ],
      "text/plain": [
       "<Quantity [0.02209026, 0.15710681, 0.16390624, 0.29392182, 0.15669356,\n",
       "           0.14834881, 0.10956944, 0.16692986, 0.1570234 , 0.10653671,\n",
       "           0.09447107, 0.06639956, 0.08286592, 0.04438908, 0.07331387,\n",
       "           0.05654663] 1 / cm3>"
      ]
     },
     "execution_count": 57,
     "metadata": {},
     "output_type": "execute_result"
    }
   ],
   "source": [
    "props['number_density_bgsub']/1e6"
   ]
  },
  {
   "cell_type": "code",
   "execution_count": 58,
   "metadata": {},
   "outputs": [
    {
     "data": {
      "text/latex": [
       "$[207706.36,~77884.794,~76252.211,~56942.203,~77987.429,~80150.852,~93262.159,~75558.472,~77905.478,~94580.268,~100438.63,~119802.97,~107241.33,~146525.13,~114013.72,~129821.56] \\; \\mathrm{yr}$"
      ],
      "text/plain": [
       "<Quantity [207706.35972339,  77884.79426338,  76252.21144204,\n",
       "            56942.203191  ,  77987.42914767,  80150.85245975,\n",
       "            93262.15934347,  75558.47219179,  77905.47756111,\n",
       "            94580.26790694, 100438.62675694, 119802.97294172,\n",
       "           107241.33444006, 146525.13338388, 114013.72127938,\n",
       "           129821.56078116] yr>"
      ]
     },
     "execution_count": 58,
     "metadata": {},
     "output_type": "execute_result"
    }
   ],
   "source": [
    "props['tff_bgsub'].to('yr')"
   ]
  }
 ],
 "metadata": {
  "kernelspec": {
   "display_name": "Python 3 (ipykernel)",
   "language": "python",
   "name": "python3"
  },
  "language_info": {
   "codemirror_mode": {
    "name": "ipython",
    "version": 3
   },
   "file_extension": ".py",
   "mimetype": "text/x-python",
   "name": "python",
   "nbconvert_exporter": "python",
   "pygments_lexer": "ipython3",
   "version": "3.9.13"
  }
 },
 "nbformat": 4,
 "nbformat_minor": 4
}
