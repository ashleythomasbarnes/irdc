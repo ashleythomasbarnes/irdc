{
 "cells": [
  {
   "cell_type": "code",
   "execution_count": 1,
   "metadata": {},
   "outputs": [
    {
     "name": "stderr",
     "output_type": "stream",
     "text": [
      "WARNING: AstropyDeprecationWarning: block_reduce was moved to the astropy.nddata.blocks module.  Please update your import statement. [astropy.nddata.utils]\n"
     ]
    }
   ],
   "source": [
    "from scipy.optimize import curve_fit\n",
    "import matplotlib.pyplot as plt\n",
    "from astropy.io import fits\n",
    "from astropy import stats\n",
    "import glob\n",
    "import numpy as np\n",
    "\n",
    "import matplotlib\n",
    "import aplpy\n",
    "import scipy\n",
    "\n",
    "import scipy.ndimage as ndimage\n",
    "from astropy.convolution import convolve_fft, Gaussian2DKernel, convolve\n",
    "    \n",
    "def std_func(values):\n",
    "#     std = np.nanstd(values)\n",
    "    mad = stats.mad_std(values)\n",
    "    return mad"
   ]
  },
  {
   "cell_type": "code",
   "execution_count": 9,
   "metadata": {},
   "outputs": [],
   "source": [
    "output_dir = './../../analysis/dendro/rms/'\n",
    "\n",
    "inp_file = './../../data/2017.1.00793.S/2017.1.00793.S/science_goal.uid___A001_X12cc_X1c/group.uid___A001_X12cc_X1d/member.uid___A001_X12cc_X1e/product/G28-MM4_mosaic.fits'\n",
    "inp_file_pb = './../../data/2017.1.00793.S/2017.1.00793.S/science_goal.uid___A001_X12cc_X1c/group.uid___A001_X12cc_X1d/member.uid___A001_X12cc_X1e/product/member.uid___A001_X12cc_X1e.G28-MM4_4_sci.spw25_27_29_31_33_35_37.mfs.IQUV.manual.pbcor.fits'\n",
    "\n",
    "cloud = 'cloudC'"
   ]
  },
  {
   "cell_type": "code",
   "execution_count": 11,
   "metadata": {},
   "outputs": [
    {
     "name": "stdout",
     "output_type": "stream",
     "text": [
      "./../../data/2017.1.00793.S/2017.1.00793.S/science_goal.uid___A001_X12cc_X1c/group.uid___A001_X12cc_X1d/member.uid___A001_X12cc_X1e/product/G28-MM4_mosaic.fits cloudC\n",
      "9.39e-05 1.25e-04\n"
     ]
    }
   ],
   "source": [
    "kr = 5 #kernal radius\n",
    "\n",
    "print(inp_file, cloud)\n",
    "\n",
    "hdu = fits.open(inp_file)[0]\n",
    "data = hdu.data \n",
    "data = data.squeeze()\n",
    "\n",
    "hdu = fits.open(inp_file_pb)[0]\n",
    "data_pb = hdu.data[0]\n",
    "data_pb = data_pb.squeeze()\n",
    "\n",
    "header = hdu.header\n",
    "\n",
    "rms = np.empty(data.shape) *np.nan\n",
    "pb_step = 0.1\n",
    "pb_levs = np.arange(0, 1, pb_step)\n",
    "\n",
    "for pb_lev in pb_levs: \n",
    "    bool_mask = (data_pb>pb_lev) & (data_pb<=pb_lev+pb_step)\n",
    "    pb_mask = np.where(bool_mask)\n",
    "    data_masked = data[pb_mask]\n",
    "    mad = stats.mad_std(data_masked)\n",
    "    rms[bool_mask] = mad\n",
    "\n",
    "smrms = convolve(rms, Gaussian2DKernel(kr), boundary='wrap')\n",
    "smrms[~np.isfinite(rms)] = np.nan\n",
    "\n",
    "data_new = data.copy()\n",
    "data_new[data_new>3*smrms] = np.nan\n",
    "\n",
    "rms = np.empty(data_new.shape) *np.nan\n",
    "pb_step = 0.05\n",
    "pb_levs = np.arange(0, 1, pb_step)\n",
    "\n",
    "for pb_lev in pb_levs: \n",
    "    bool_mask = (data_pb>pb_lev) & (data_pb<=pb_lev+pb_step)\n",
    "    pb_mask = np.where(bool_mask)\n",
    "    data_masked = data_new[pb_mask]\n",
    "    mad = stats.mad_std(data_masked, ignore_nan=True)\n",
    "    rms[bool_mask] = mad\n",
    "\n",
    "smrms = convolve(rms, Gaussian2DKernel(kr), boundary='wrap')\n",
    "smrms[~np.isfinite(rms)] = np.nan\n",
    "\n",
    "text = np.nanmean(rms), stats.mad_std(data_new, ignore_nan=True)\n",
    "print('%0.2e %0.2e' %(text))\n",
    "\n",
    "fits.writeto('%s/%s_rms_pbrads.fits' %(output_dir, cloud), data=smrms, header=header, overwrite=True)"
   ]
  },
  {
   "cell_type": "code",
   "execution_count": null,
   "metadata": {},
   "outputs": [],
   "source": []
  },
  {
   "cell_type": "code",
   "execution_count": null,
   "metadata": {},
   "outputs": [],
   "source": []
  },
  {
   "cell_type": "code",
   "execution_count": null,
   "metadata": {},
   "outputs": [],
   "source": []
  }
 ],
 "metadata": {
  "kernelspec": {
   "display_name": "Python 3",
   "language": "python",
   "name": "python3"
  },
  "language_info": {
   "codemirror_mode": {
    "name": "ipython",
    "version": 3
   },
   "file_extension": ".py",
   "mimetype": "text/x-python",
   "name": "python",
   "nbconvert_exporter": "python",
   "pygments_lexer": "ipython3",
   "version": "3.7.4"
  }
 },
 "nbformat": 4,
 "nbformat_minor": 4
}
