{
 "cells": [
  {
   "cell_type": "code",
   "execution_count": 1,
   "metadata": {},
   "outputs": [],
   "source": [
    "import warnings\n",
    "warnings.filterwarnings('ignore')\n",
    "\n",
    "from astropy.io import fits\n",
    "import numpy as np\n",
    "import matplotlib.pyplot as plt\n",
    "import glob \n",
    "import aplpy\n",
    "from tqdm.auto import tqdm\n",
    "from astropy.utils.console import ProgressBar\n",
    "\n",
    "import sys\n",
    "sys.path.append('/Users/abarnes/GitHub/misc/data_cube_analysis/')\n",
    "\n",
    "plt.rcParams[\"font.family\"] = \"sans-serif\"\n",
    "plt.rcParams[\"font.weight\"] = \"bold\"\n",
    "plt.rcParams[\"axes.labelweight\"] = \"bold\"\n",
    "plt.rcParams[\"xtick.direction\"] = \"in\"\n",
    "plt.rcParams[\"ytick.direction\"] = \"in\" \n",
    "\n",
    "\n",
    "import getdata\n",
    "import moments\n",
    "import rms\n",
    "import masks"
   ]
  },
  {
   "cell_type": "code",
   "execution_count": 2,
   "metadata": {},
   "outputs": [],
   "source": [
    "inputdir = '/Users/abarnes/Dropbox/work/Projects/IRAM-30m/cloudh_projects/cubes_processed'\n",
    "inputfiles = glob.glob('%s/*.fits' %inputdir)\n",
    "inputfiles = np.sort(inputfiles)\n",
    "inputfiles.sort()"
   ]
  },
  {
   "cell_type": "code",
   "execution_count": 3,
   "metadata": {},
   "outputs": [],
   "source": [
    "def makeplot(moms, inputfile, outputdir = './../figures/'):\n",
    "\n",
    "    bbox = dict(facecolor='whitesmoke',  alpha=0.95, boxstyle='round')\n",
    "    fig = plt.figure(figsize=(4, 4))\n",
    "    ax = aplpy.FITSFigure(moms['max'], figure=fig)\n",
    "\n",
    "    vmin, vmax = np.nanpercentile(moms['max'].data, (5, 99.9))\n",
    "    ax.show_colorscale(vmin=vmin, vmax=vmax, cmap='inferno')\n",
    "\n",
    "    ax.axis_labels.hide()\n",
    "    ax.tick_labels.hide()\n",
    "\n",
    "    ax.add_colorbar()\n",
    "    ax.ticks.set_color('black')\n",
    "    ax.colorbar.set_width(0.15)\n",
    "\n",
    "    ax.add_label(0.05, 0.95, inputfile.split('/')[-1].split('.')[0].replace('CloudH_', ''),  ha='left', va='top', size=10, bbox = bbox, relative=True)\n",
    "\n",
    "    ax.set_nan_color('lightgrey')\n",
    "\n",
    "    ax_plot = fig.get_axes()[-2]\n",
    "    ax_plot.grid(True, alpha=0.35, ls=':', color='white')\n",
    "\n",
    "    ax.colorbar.set_axis_label_text('T (max) [K]')\n",
    "\n",
    "    ax.colorbar.set_location('top')\n",
    "    axcbar = fig.get_axes()[-1]\n",
    "    axcbar.xaxis.set_ticks_position('top')\n",
    "\n",
    "    ax_cbar = fig.get_axes()[-1]\n",
    "    ax_cbar.yaxis.set_ticks_position('both')\n",
    "\n",
    "    fig.tight_layout(h_pad=0, w_pad=0.3)\n",
    "\n",
    "    outputfile = outputdir+inputfile.split('/')[-1].replace('.fits', '.png')\n",
    "    # outputfile = inputfile.replace('.fits', '.png').replace('cubes_processed', 'figures')\n",
    "    fig.savefig(outputfile, bbox_inches='tight', dpi=300)  \n",
    "    plt.close('all')\n",
    "    \n",
    "    return()"
   ]
  },
  {
   "cell_type": "code",
   "execution_count": 4,
   "metadata": {},
   "outputs": [
    {
     "data": {
      "application/vnd.jupyter.widget-view+json": {
       "model_id": "98f715241b1e4906b1374ec9ed803a65",
       "version_major": 2,
       "version_minor": 0
      },
      "text/plain": [
       "  0%|          | 0/54 [00:00<?, ?it/s]"
      ]
     },
     "metadata": {},
     "output_type": "display_data"
    }
   ],
   "source": [
    "mom_velocitydict = {'cloudH': np.array([35, 55])}\n",
    "rms_velocitydict = {'cloudH': np.array([[-200, 30], [60, 200]])}\n",
    "\n",
    "for inputfile in tqdm(inputfiles):\n",
    "\n",
    "    if 'FTSOdp' in inputfile: \n",
    "        continue\n",
    "\n",
    "    cloud = inputfile.split('/')[-1].split('-')[0]\n",
    "    hdu = fits.open(inputfile)[0]\n",
    "    \n",
    "    hdu.header['BUNIT'] = 'K'\n",
    "    hdu.header['CTYPE1'] = 'RA---TAN' \n",
    "    hdu.header['CTYPE2'] = 'DEC--TAN'\n",
    "    hdu.header['RADESYS'] = 'ICRS'\n",
    "    hdu.header['EQUINOX'] = 2000.0\n",
    "\n",
    "    cube = getdata.get_cube(hdu)\n",
    "    rms_map = rms.get_rms(cube, rms_velocitydict['cloudH'])\n",
    "\n",
    "    mask = masks.get_expmask(cube, rms_map, hthresh=3, lthresh=2, beamarea=1, randomnoise=False)\n",
    "    cube_masked = cube.with_mask(mask)\n",
    "    velo = np.array([-200,150])\n",
    "\n",
    "    moms = moments.get_momentmaps(cube_masked, rms_map, mom_velocitydict['cloudH'])\n",
    "    makeplot(moms, inputfile)\n",
    "\n",
    "    # outputfile = inputfile.replace(inputdir, './../mom_28').replace('.fits', '')\n",
    "    # rms_map.writeto('%s_rms.fits' %outputfile, overwrite=True)\n",
    "    # moms['mom0'].writeto('%s_mom.fits' %outputfile, overwrite=True)\n",
    "    # moms['max'].writeto('%s_max.fits' %outputfile, overwrite=True)\n",
    "    # moms['mom0s2n'].writeto('%s_mom0s2n.fits' %outputfile, overwrite=True)"
   ]
  },
  {
   "cell_type": "code",
   "execution_count": null,
   "metadata": {},
   "outputs": [],
   "source": []
  }
 ],
 "metadata": {
  "kernelspec": {
   "display_name": "Python 3",
   "language": "python",
   "name": "python3"
  },
  "language_info": {
   "codemirror_mode": {
    "name": "ipython",
    "version": 3
   },
   "file_extension": ".py",
   "mimetype": "text/x-python",
   "name": "python",
   "nbconvert_exporter": "python",
   "pygments_lexer": "ipython3",
   "version": "3.9.13"
  }
 },
 "nbformat": 4,
 "nbformat_minor": 4
}
